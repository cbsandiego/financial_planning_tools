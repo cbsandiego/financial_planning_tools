{
 "cells": [
  {
   "cell_type": "markdown",
   "metadata": {},
   "source": [
    "# Financial Planning with APIs and Simulations\n",
    "\n",
    "In this Challenge, you’ll create two financial analysis tools by using a single Jupyter notebook:\n",
    "\n",
    "Part 1: A financial planner for emergencies. The members will be able to use this tool to visualize their current savings. The members can then determine if they have enough reserves for an emergency fund.\n",
    "\n",
    "Part 2: A financial planner for retirement. This tool will forecast the performance of their retirement portfolio in 30 years. To do this, the tool will make an Alpaca API call via the Alpaca SDK to get historical price data for use in Monte Carlo simulations.\n",
    "\n",
    "You’ll use the information from the Monte Carlo simulation to answer questions about the portfolio in your Jupyter notebook.\n",
    "\n"
   ]
  },
  {
   "cell_type": "code",
   "execution_count": 1,
   "metadata": {},
   "outputs": [],
   "source": [
    "# Import the required libraries and dependencies\n",
    "import os\n",
    "import requests\n",
    "import json\n",
    "import pandas as pd\n",
    "from dotenv import load_dotenv\n",
    "import alpaca_trade_api as tradeapi\n",
    "from MCForecastTools import MCSimulation\n",
    "\n",
    "%matplotlib inline"
   ]
  },
  {
   "cell_type": "code",
   "execution_count": 2,
   "metadata": {},
   "outputs": [
    {
     "data": {
      "text/plain": [
       "True"
      ]
     },
     "execution_count": 2,
     "metadata": {},
     "output_type": "execute_result"
    }
   ],
   "source": [
    "# Load the environment variables from the .env file\n",
    "#by calling the load_dotenv function\n",
    "load_dotenv()"
   ]
  },
  {
   "cell_type": "markdown",
   "metadata": {},
   "source": [
    "## Part 1: Create a Financial Planner for Emergencies"
   ]
  },
  {
   "cell_type": "markdown",
   "metadata": {},
   "source": [
    "### Evaluate the Cryptocurrency Wallet by Using the Requests Library\n",
    "\n",
    "In this section, you’ll determine the current value of a member’s cryptocurrency wallet. You’ll collect the current prices for the Bitcoin and Ethereum cryptocurrencies by using the Python Requests library. For the prototype, you’ll assume that the member holds the 1.2 Bitcoins (BTC) and 5.3 Ethereum coins (ETH). To do all this, complete the following steps:\n",
    "\n",
    "1. Create a variable named `monthly_income`, and set its value to `12000`.\n",
    "\n",
    "2. Use the Requests library to get the current price (in US dollars) of Bitcoin (BTC) and Ethereum (ETH) by using the API endpoints that the starter code supplies.\n",
    "\n",
    "3. Navigate the JSON response object to access the current price of each coin, and store each in a variable.\n",
    "\n",
    "    > **Hint** Note the specific identifier for each cryptocurrency in the API JSON response. The Bitcoin identifier is `1`, and the Ethereum identifier is `1027`.\n",
    "\n",
    "4. Calculate the value, in US dollars, of the current amount of each cryptocurrency and of the entire cryptocurrency wallet.\n",
    "\n"
   ]
  },
  {
   "cell_type": "code",
   "execution_count": 3,
   "metadata": {},
   "outputs": [],
   "source": [
    "# The current number of coins for each cryptocurrency asset held in the portfolio.\n",
    "btc_coins = 1.2\n",
    "eth_coins = 5.3"
   ]
  },
  {
   "cell_type": "markdown",
   "metadata": {},
   "source": [
    "#### Step 1: Create a variable named `monthly_income`, and set its value to `12000`."
   ]
  },
  {
   "cell_type": "code",
   "execution_count": 4,
   "metadata": {},
   "outputs": [],
   "source": [
    "# The monthly amount for the member's household income\n",
    "monthly_income = 12000\n"
   ]
  },
  {
   "cell_type": "markdown",
   "metadata": {},
   "source": [
    "#### Review the endpoint URLs for the API calls to Free Crypto API in order to get the current pricing information for both BTC and ETH."
   ]
  },
  {
   "cell_type": "code",
   "execution_count": 5,
   "metadata": {},
   "outputs": [],
   "source": [
    "# The Free Crypto API Call endpoint URLs for the held cryptocurrency assets\n",
    "btc_url = \"https://api.alternative.me/v2/ticker/Bitcoin/?convert=USD\"\n",
    "eth_url = \"https://api.alternative.me/v2/ticker/Ethereum/?convert=USD\""
   ]
  },
  {
   "cell_type": "markdown",
   "metadata": {},
   "source": [
    "#### Step 2. Use the Requests library to get the current price (in US dollars) of Bitcoin (BTC) and Ethereum (ETH) by using the API endpoints that the starter code supplied."
   ]
  },
  {
   "cell_type": "code",
   "execution_count": 6,
   "metadata": {},
   "outputs": [
    {
     "name": "stdout",
     "output_type": "stream",
     "text": [
      "{\n",
      "    \"data\": {\n",
      "        \"1\": {\n",
      "            \"circulating_supply\": 18856618,\n",
      "            \"id\": 1,\n",
      "            \"last_updated\": 1635401962,\n",
      "            \"max_supply\": 21000000,\n",
      "            \"name\": \"Bitcoin\",\n",
      "            \"quotes\": {\n",
      "                \"USD\": {\n",
      "                    \"market_cap\": 1116372630011,\n",
      "                    \"percent_change_1h\": -0.0002560033347944,\n",
      "                    \"percent_change_24h\": -2.95699340241345,\n",
      "                    \"percent_change_7d\": -10.6954639235948,\n",
      "                    \"percentage_change_1h\": -0.0002560033347944,\n",
      "                    \"percentage_change_24h\": -2.95699340241345,\n",
      "                    \"percentage_change_7d\": -10.6954639235948,\n",
      "                    \"price\": 59153.0,\n",
      "                    \"volume_24h\": 45440112099\n",
      "                }\n",
      "            },\n",
      "            \"rank\": 1,\n",
      "            \"symbol\": \"BTC\",\n",
      "            \"total_supply\": 18856618,\n",
      "            \"website_slug\": \"bitcoin\"\n",
      "        }\n",
      "    },\n",
      "    \"metadata\": {\n",
      "        \"error\": null,\n",
      "        \"num_cryptocurrencies\": 3105,\n",
      "        \"timestamp\": 1635401962\n",
      "    }\n",
      "}\n"
     ]
    }
   ],
   "source": [
    "# Using the Python requests library, make an API call to access the current price of BTC\n",
    "btc_response = requests.get(btc_url).json()\n",
    "\n",
    "# Use the json.dumps function to review the response data from the API call\n",
    "# Use the indent and sort_keys parameters to make the response object readable\n",
    "print(json.dumps(btc_response, indent = 4, sort_keys = True))\n"
   ]
  },
  {
   "cell_type": "code",
   "execution_count": 7,
   "metadata": {},
   "outputs": [
    {
     "name": "stdout",
     "output_type": "stream",
     "text": [
      "{\n",
      "    \"data\": {\n",
      "        \"1027\": {\n",
      "            \"circulating_supply\": 118107225,\n",
      "            \"id\": 1027,\n",
      "            \"last_updated\": 1635401922,\n",
      "            \"max_supply\": 0,\n",
      "            \"name\": \"Ethereum\",\n",
      "            \"quotes\": {\n",
      "                \"USD\": {\n",
      "                    \"market_cap\": 476343143902,\n",
      "                    \"percent_change_1h\": -0.0403845830690573,\n",
      "                    \"percent_change_24h\": -6.00691806904837,\n",
      "                    \"percent_change_7d\": -3.62569063145885,\n",
      "                    \"percentage_change_1h\": -0.0403845830690573,\n",
      "                    \"percentage_change_24h\": -6.00691806904837,\n",
      "                    \"percentage_change_7d\": -3.62569063145885,\n",
      "                    \"price\": 4018.91,\n",
      "                    \"volume_24h\": 27980379757\n",
      "                }\n",
      "            },\n",
      "            \"rank\": 2,\n",
      "            \"symbol\": \"ETH\",\n",
      "            \"total_supply\": 118107225,\n",
      "            \"website_slug\": \"ethereum\"\n",
      "        }\n",
      "    },\n",
      "    \"metadata\": {\n",
      "        \"error\": null,\n",
      "        \"num_cryptocurrencies\": 3105,\n",
      "        \"timestamp\": 1635401922\n",
      "    }\n",
      "}\n"
     ]
    }
   ],
   "source": [
    "# Using the Python requests library, make an API call to access the current price ETH\n",
    "eth_response = requests.get(eth_url).json()\n",
    "\n",
    "# Use the json.dumps function to review the response data from the API call\n",
    "# Use the indent and sort_keys parameters to make the response object readable\n",
    "print(json.dumps(eth_response, indent = 4, sort_keys = True))\n"
   ]
  },
  {
   "cell_type": "markdown",
   "metadata": {},
   "source": [
    "#### Step 3: Navigate the JSON response object to access the current price of each coin, and store each in a variable."
   ]
  },
  {
   "cell_type": "code",
   "execution_count": 45,
   "metadata": {},
   "outputs": [
    {
     "name": "stdout",
     "output_type": "stream",
     "text": [
      "As of 2021-10-27 23:19:22, the current price for BTC is $59,153.0 USD.\n"
     ]
    }
   ],
   "source": [
    "# Navigate the BTC response object to access the current price of BTC\n",
    "btc_price = float(btc_response['data']['1']['quotes']['USD']['price'])\n",
    "\n",
    "# Print the current price of BTC\n",
    "from datetime import datetime\n",
    "\n",
    "timestamp_btc = btc_response['metadata']['timestamp']\n",
    "dt_object_btc = datetime.fromtimestamp(timestamp_btc)\n",
    "\n",
    "print(f'As of {dt_object_btc}, the current price for BTC is ${btc_price:,} USD.')"
   ]
  },
  {
   "cell_type": "code",
   "execution_count": 9,
   "metadata": {},
   "outputs": [
    {
     "name": "stdout",
     "output_type": "stream",
     "text": [
      "As of 2021-10-27 23:18:42, the current price for ETH is $4,018.91 USD.\n"
     ]
    }
   ],
   "source": [
    "# Navigate the BTC response object to access the current price of ETH\n",
    "eth_price = float(eth_response['data']['1027']['quotes']['USD']['price'])\n",
    "\n",
    "# Print the current price of ETH\n",
    "from datetime import datetime\n",
    "\n",
    "timestamp_eth = eth_response['metadata']['timestamp']\n",
    "dt_object_eth = datetime.fromtimestamp(timestamp_eth)\n",
    "\n",
    "print(f'As of {dt_object_eth}, the current price for ETH is ${eth_price:,} USD.')"
   ]
  },
  {
   "cell_type": "markdown",
   "metadata": {},
   "source": [
    "### Step 4: Calculate the value, in US dollars, of the current amount of each cryptocurrency and of the entire cryptocurrency wallet."
   ]
  },
  {
   "cell_type": "code",
   "execution_count": 10,
   "metadata": {},
   "outputs": [
    {
     "name": "stdout",
     "output_type": "stream",
     "text": [
      "As of 2021-10-27 23:19:22, the current value of the BTC holding is $70,983.59999999999 USD.\n"
     ]
    }
   ],
   "source": [
    "# Compute the current value of the BTC holding \n",
    "btc_value = float(btc_price * btc_coins)\n",
    "\n",
    "# Print current value of your holding in BTC\n",
    "print(f'As of {dt_object_btc}, the current value of the BTC holding is ${btc_value:,} USD.')"
   ]
  },
  {
   "cell_type": "code",
   "execution_count": 11,
   "metadata": {},
   "outputs": [
    {
     "name": "stdout",
     "output_type": "stream",
     "text": [
      "As of 2021-10-27 23:18:42, the current value of the ETH holding is $21,300.222999999998 USD.\n"
     ]
    }
   ],
   "source": [
    "# Compute the current value of the ETH holding \n",
    "eth_value = float(eth_price * eth_coins)\n",
    "\n",
    "# Print current value of your holding in ETH\n",
    "print(f'As of {dt_object_eth}, the current value of the ETH holding is ${eth_value:,} USD.')"
   ]
  },
  {
   "cell_type": "code",
   "execution_count": 12,
   "metadata": {},
   "outputs": [
    {
     "name": "stdout",
     "output_type": "stream",
     "text": [
      "The total value of the cryptocurrency wallet is $92,283.82.\n"
     ]
    }
   ],
   "source": [
    "# Compute the total value of the cryptocurrency wallet\n",
    "# Add the value of the BTC holding to the value of the ETH holding\n",
    "total_crypto_wallet = btc_value + eth_value\n",
    "\n",
    "# Print current cryptocurrency wallet balance\n",
    "print(f'The total value of the cryptocurrency wallet is ${total_crypto_wallet:,.2f}.')"
   ]
  },
  {
   "cell_type": "markdown",
   "metadata": {},
   "source": [
    "### Evaluate the Stock and Bond Holdings by Using the Alpaca SDK\n",
    "\n",
    "In this section, you’ll determine the current value of a member’s stock and bond holdings. You’ll make an API call to Alpaca via the Alpaca SDK to get the current closing prices of the SPDR S&P 500 ETF Trust (ticker: SPY) and of the iShares Core US Aggregate Bond ETF (ticker: AGG). For the prototype, assume that the member holds 110 shares of SPY, which represents the stock portion of their portfolio, and 200 shares of AGG, which represents the bond portion. To do all this, complete the following steps:\n",
    "\n",
    "1. In the `Starter_Code` folder, create an environment file (`.env`) to store the values of your Alpaca API key and Alpaca secret key.\n",
    "\n",
    "2. Set the variables for the Alpaca API and secret keys. Using the Alpaca SDK, create the Alpaca `tradeapi.REST` object. In this object, include the parameters for the Alpaca API key, the secret key, and the version number.\n",
    "\n",
    "3. Set the following parameters for the Alpaca API call:\n",
    "\n",
    "    - `tickers`: Use the tickers for the member’s stock and bond holdings.\n",
    "\n",
    "    - `timeframe`: Use a time frame of one day.\n",
    "\n",
    "    - `start_date` and `end_date`: Use the same date for these parameters, and format them with the date of the previous weekday (or `2020-08-07`). This is because you want the one closing price for the most-recent trading day.\n",
    "\n",
    "4. Get the current closing prices for `SPY` and `AGG` by using the Alpaca `get_barset` function. Format the response as a Pandas DataFrame by including the `df` property at the end of the `get_barset` function.\n",
    "\n",
    "5. Navigating the Alpaca response DataFrame, select the `SPY` and `AGG` closing prices, and store them as variables.\n",
    "\n",
    "6. Calculate the value, in US dollars, of the current amount of shares in each of the stock and bond portions of the portfolio, and print the results.\n"
   ]
  },
  {
   "cell_type": "markdown",
   "metadata": {},
   "source": [
    "#### Review the total number of shares held in both (SPY) and (AGG)."
   ]
  },
  {
   "cell_type": "code",
   "execution_count": 13,
   "metadata": {},
   "outputs": [],
   "source": [
    "# Current amount of shares held in both the stock (SPY) and bond (AGG) portion of the portfolio.\n",
    "spy_shares = 110\n",
    "agg_shares = 200"
   ]
  },
  {
   "cell_type": "markdown",
   "metadata": {},
   "source": [
    "#### Step 1: In the `Starter_Code` folder, create an environment file (`.env`) to store the values of your Alpaca API key and Alpaca secret key."
   ]
  },
  {
   "cell_type": "markdown",
   "metadata": {},
   "source": [
    "#### Step 2: Set the variables for the Alpaca API and secret keys. Using the Alpaca SDK, create the Alpaca `tradeapi.REST` object. In this object, include the parameters for the Alpaca API key, the secret key, and the version number."
   ]
  },
  {
   "cell_type": "code",
   "execution_count": 14,
   "metadata": {},
   "outputs": [],
   "source": [
    "# Set the variables for the Alpaca API and secret keys\n",
    "alpaca_api_key = os.getenv('ALPACA_API_KEY')\n",
    "alpaca_secret_key = os.getenv('ALPACA_SECRET_KEY')\n",
    "\n",
    "# Create the Alpaca tradeapi.REST object\n",
    "alpaca = tradeapi.REST(\n",
    "    alpaca_api_key,\n",
    "    alpaca_secret_key,\n",
    "    api_version = 'v2')"
   ]
  },
  {
   "cell_type": "markdown",
   "metadata": {},
   "source": [
    "#### Step 3: Set the following parameters for the Alpaca API call:\n",
    "\n",
    "- `tickers`: Use the tickers for the member’s stock and bond holdings.\n",
    "\n",
    "- `timeframe`: Use a time frame of one day.\n",
    "\n",
    "- `start_date` and `end_date`: Use the same date for these parameters, and format them with the date of the previous weekday (or `2020-08-07`). This is because you want the one closing price for the most-recent trading day.\n"
   ]
  },
  {
   "cell_type": "code",
   "execution_count": 15,
   "metadata": {},
   "outputs": [],
   "source": [
    "# Set the tickers for both the bond and stock portion of the portfolio\n",
    "tickers = ['SPY', 'AGG']\n",
    "\n",
    "# Set timeframe to 1D \n",
    "timeframe = '1D'\n",
    "\n",
    "# Format current date as ISO format\n",
    "# Set both the start and end date at the date of your prior weekday \n",
    "# This will give you the closing price of the previous trading day\n",
    "# Alternatively you can use a start and end date of 2020-08-07\n",
    "start_date = pd.Timestamp('2020-08-07', tz = 'America/New_York').isoformat()\n",
    "end_date = pd.Timestamp('2020-08-07', tz = 'America/New_York').isoformat()"
   ]
  },
  {
   "cell_type": "markdown",
   "metadata": {},
   "source": [
    "#### Step 4: Get the current closing prices for `SPY` and `AGG` by using the Alpaca `get_barset` function. Format the response as a Pandas DataFrame by including the `df` property at the end of the `get_barset` function."
   ]
  },
  {
   "cell_type": "code",
   "execution_count": 16,
   "metadata": {},
   "outputs": [
    {
     "data": {
      "text/html": [
       "<div>\n",
       "<style scoped>\n",
       "    .dataframe tbody tr th:only-of-type {\n",
       "        vertical-align: middle;\n",
       "    }\n",
       "\n",
       "    .dataframe tbody tr th {\n",
       "        vertical-align: top;\n",
       "    }\n",
       "\n",
       "    .dataframe thead tr th {\n",
       "        text-align: left;\n",
       "    }\n",
       "\n",
       "    .dataframe thead tr:last-of-type th {\n",
       "        text-align: right;\n",
       "    }\n",
       "</style>\n",
       "<table border=\"1\" class=\"dataframe\">\n",
       "  <thead>\n",
       "    <tr>\n",
       "      <th></th>\n",
       "      <th colspan=\"5\" halign=\"left\">AGG</th>\n",
       "      <th colspan=\"5\" halign=\"left\">SPY</th>\n",
       "    </tr>\n",
       "    <tr>\n",
       "      <th></th>\n",
       "      <th>open</th>\n",
       "      <th>high</th>\n",
       "      <th>low</th>\n",
       "      <th>close</th>\n",
       "      <th>volume</th>\n",
       "      <th>open</th>\n",
       "      <th>high</th>\n",
       "      <th>low</th>\n",
       "      <th>close</th>\n",
       "      <th>volume</th>\n",
       "    </tr>\n",
       "    <tr>\n",
       "      <th>time</th>\n",
       "      <th></th>\n",
       "      <th></th>\n",
       "      <th></th>\n",
       "      <th></th>\n",
       "      <th></th>\n",
       "      <th></th>\n",
       "      <th></th>\n",
       "      <th></th>\n",
       "      <th></th>\n",
       "      <th></th>\n",
       "    </tr>\n",
       "  </thead>\n",
       "  <tbody>\n",
       "    <tr>\n",
       "      <th>2020-08-07 00:00:00-04:00</th>\n",
       "      <td>119.66</td>\n",
       "      <td>119.73</td>\n",
       "      <td>119.395</td>\n",
       "      <td>119.445</td>\n",
       "      <td>8830420</td>\n",
       "      <td>333.28</td>\n",
       "      <td>334.88</td>\n",
       "      <td>332.3</td>\n",
       "      <td>334.55</td>\n",
       "      <td>98710236</td>\n",
       "    </tr>\n",
       "  </tbody>\n",
       "</table>\n",
       "</div>"
      ],
      "text/plain": [
       "                              AGG                                        SPY  \\\n",
       "                             open    high      low    close   volume    open   \n",
       "time                                                                           \n",
       "2020-08-07 00:00:00-04:00  119.66  119.73  119.395  119.445  8830420  333.28   \n",
       "\n",
       "                                                            \n",
       "                             high    low   close    volume  \n",
       "time                                                        \n",
       "2020-08-07 00:00:00-04:00  334.88  332.3  334.55  98710236  "
      ]
     },
     "execution_count": 16,
     "metadata": {},
     "output_type": "execute_result"
    }
   ],
   "source": [
    "# Use the Alpaca get_barset function to get current closing prices the portfolio\n",
    "# Be sure to set the `df` property after the function to format the response object as a DataFrame\n",
    "prices_df = alpaca.get_barset(\n",
    "    tickers,\n",
    "    timeframe,\n",
    "    start = start_date,\n",
    "    end = end_date).df\n",
    "\n",
    "# Review the first 5 rows of the Alpaca DataFrame\n",
    "prices_df.head()"
   ]
  },
  {
   "cell_type": "markdown",
   "metadata": {},
   "source": [
    "#### Step 5: Navigating the Alpaca response DataFrame, select the `SPY` and `AGG` closing prices, and store them as variables."
   ]
  },
  {
   "cell_type": "code",
   "execution_count": 17,
   "metadata": {},
   "outputs": [
    {
     "name": "stdout",
     "output_type": "stream",
     "text": [
      "As of 2020-08-07T00:00:00-04:00, the AGG closing price was $ 119.44 USD.\n"
     ]
    }
   ],
   "source": [
    "# Access the closing price for AGG from the Alpaca DataFrame\n",
    "# Converting the value to a floating point number\n",
    "agg_close_price = float(prices_df['AGG']['close'])\n",
    "\n",
    "# Print the AGG closing price\n",
    "print(f'As of {end_date}, the AGG closing price was ${agg_close_price: .2f} USD.')"
   ]
  },
  {
   "cell_type": "code",
   "execution_count": 18,
   "metadata": {},
   "outputs": [
    {
     "name": "stdout",
     "output_type": "stream",
     "text": [
      "As of 2020-08-07T00:00:00-04:00, the SPY closing price was $334.55 USD.\n"
     ]
    }
   ],
   "source": [
    "# Access the closing price for SPY from the Alpaca DataFrame\n",
    "# Converting the value to a floating point number\n",
    "spy_close_price = float(prices_df['SPY']['close'])\n",
    "\n",
    "# Print the SPY closing price\n",
    "print(f'As of {end_date}, the SPY closing price was ${spy_close_price} USD.')"
   ]
  },
  {
   "cell_type": "markdown",
   "metadata": {},
   "source": [
    "#### Step 6: Calculate the value, in US dollars, of the current amount of shares in each of the stock and bond portions of the portfolio, and print the results."
   ]
  },
  {
   "cell_type": "code",
   "execution_count": 19,
   "metadata": {},
   "outputs": [
    {
     "name": "stdout",
     "output_type": "stream",
     "text": [
      "The current value of the bond portfolio, AGG, is $ 23,889.00 USD.\n"
     ]
    }
   ],
   "source": [
    "# Calculate the current value of the bond portion of the portfolio\n",
    "agg_value = agg_close_price * agg_shares\n",
    "\n",
    "# Print the current value of the bond portfolio\n",
    "print(f'The current value of the bond portfolio, AGG, is ${agg_value: ,.2f} USD.')"
   ]
  },
  {
   "cell_type": "code",
   "execution_count": 20,
   "metadata": {},
   "outputs": [
    {
     "name": "stdout",
     "output_type": "stream",
     "text": [
      "The current value of the stock portfolio, SPY, is $ 36,800.50 USD.\n"
     ]
    }
   ],
   "source": [
    "# Calculate the current value of the stock portion of the portfolio\n",
    "spy_value = spy_close_price * spy_shares\n",
    "\n",
    "# Print the current value of the stock portfolio\n",
    "print(f'The current value of the stock portfolio, SPY, is ${spy_value: ,.2f} USD.')"
   ]
  },
  {
   "cell_type": "code",
   "execution_count": 21,
   "metadata": {},
   "outputs": [
    {
     "name": "stdout",
     "output_type": "stream",
     "text": [
      "As of 2020-08-07T00:00:00-04:00, the current balance of the stock, SPY, and bond, AGG, portion of the porfolio is $ 60,689.50 USD.\n"
     ]
    }
   ],
   "source": [
    "# Calculate the total value of the stock and bond portion of the portfolio\n",
    "total_stocks_bonds = agg_value + spy_value\n",
    "\n",
    "# Print the current balance of the stock and bond portion of the portfolio\n",
    "print(f'As of {end_date}, the current balance of the stock, SPY, and bond, AGG, portion of the porfolio is ${total_stocks_bonds: ,.2f} USD.')"
   ]
  },
  {
   "cell_type": "code",
   "execution_count": 22,
   "metadata": {},
   "outputs": [
    {
     "name": "stdout",
     "output_type": "stream",
     "text": [
      "The current value of the entire portfolio is $ 152,973.32 USD.\n"
     ]
    }
   ],
   "source": [
    "# Calculate the total value of the member's entire savings portfolio\n",
    "# Add the value of the cryptocurrency wallet to the value of the total stocks and bonds\n",
    "total_portfolio = total_crypto_wallet + total_stocks_bonds\n",
    "\n",
    "# Print current cryptocurrency wallet balance with the value of the total stocks and bonds\n",
    "print(f'The current value of the entire portfolio is ${total_portfolio: ,.2f} USD.')"
   ]
  },
  {
   "cell_type": "markdown",
   "metadata": {},
   "source": [
    "### Evaluate the Emergency Fund\n",
    "\n",
    "In this section, you’ll use the valuations for the cryptocurrency wallet and for the stock and bond portions of the portfolio to determine if the credit union member has enough savings to build an emergency fund into their financial plan. To do this, complete the following steps:\n",
    "\n",
    "1. Create a Python list named `savings_data` that has two elements. The first element contains the total value of the cryptocurrency wallet. The second element contains the total value of the stock and bond portions of the portfolio.\n",
    "\n",
    "2. Use the `savings_data` list to create a Pandas DataFrame named `savings_df`, and then display this DataFrame. The function to create the DataFrame should take the following three parameters:\n",
    "\n",
    "    - `savings_data`: Use the list that you just created.\n",
    "\n",
    "    - `columns`: Set this parameter equal to a Python list with a single value called `amount`.\n",
    "\n",
    "    - `index`: Set this parameter equal to a Python list with the values of `crypto` and `stock/bond`.\n",
    "\n",
    "3. Use the `savings_df` DataFrame to plot a pie chart that visualizes the composition of the member’s portfolio. The y-axis of the pie chart uses `amount`. Be sure to add a title.\n",
    "\n",
    "4. Using Python, determine if the current portfolio has enough to create an emergency fund as part of the member’s financial plan. Ideally, an emergency fund should equal to three times the member’s monthly income. To do this, implement the following steps:\n",
    "\n",
    "    1. Create a variable named `emergency_fund_value`, and set it equal to three times the value of the member’s `monthly_income` of $12000. (You set this earlier in Part 1).\n",
    "\n",
    "    2. Create a series of three if statements to determine if the member’s total portfolio is large enough to fund the emergency portfolio:\n",
    "\n",
    "        1. If the total portfolio value is greater than the emergency fund value, display a message congratulating the member for having enough money in this fund.\n",
    "\n",
    "        2. Else if the total portfolio value is equal to the emergency fund value, display a message congratulating the member on reaching this important financial goal.\n",
    "\n",
    "        3. Else the total portfolio is less than the emergency fund value, so display a message showing how many dollars away the member is from reaching the goal. (Subtract the total portfolio value from the emergency fund value.)\n"
   ]
  },
  {
   "cell_type": "markdown",
   "metadata": {},
   "source": [
    "#### Step 1: Create a Python list named `savings_data` that has two elements. The first element contains the total value of the cryptocurrency wallet. The second element contains the total value of the stock and bond portions of the portfolio."
   ]
  },
  {
   "cell_type": "code",
   "execution_count": 23,
   "metadata": {},
   "outputs": [
    {
     "name": "stdout",
     "output_type": "stream",
     "text": [
      "savings_data = [92283.82299999999, 60689.5].\n"
     ]
    }
   ],
   "source": [
    "# Consolidate financial assets data into a Python list\n",
    "savings_data = [total_crypto_wallet, total_stocks_bonds]\n",
    "\n",
    "# Review the Python list savings_data\n",
    "print(f'savings_data = {savings_data}.') "
   ]
  },
  {
   "cell_type": "markdown",
   "metadata": {},
   "source": [
    "#### Step 2: Use the `savings_data` list to create a Pandas DataFrame named `savings_df`, and then display this DataFrame. The function to create the DataFrame should take the following three parameters:\n",
    "\n",
    "- `savings_data`: Use the list that you just created.\n",
    "\n",
    "- `columns`: Set this parameter equal to a Python list with a single value called `amount`.\n",
    "\n",
    "- `index`: Set this parameter equal to a Python list with the values of `crypto` and `stock/bond`.\n"
   ]
  },
  {
   "cell_type": "code",
   "execution_count": 24,
   "metadata": {},
   "outputs": [
    {
     "data": {
      "text/html": [
       "<div>\n",
       "<style scoped>\n",
       "    .dataframe tbody tr th:only-of-type {\n",
       "        vertical-align: middle;\n",
       "    }\n",
       "\n",
       "    .dataframe tbody tr th {\n",
       "        vertical-align: top;\n",
       "    }\n",
       "\n",
       "    .dataframe thead th {\n",
       "        text-align: right;\n",
       "    }\n",
       "</style>\n",
       "<table border=\"1\" class=\"dataframe\">\n",
       "  <thead>\n",
       "    <tr style=\"text-align: right;\">\n",
       "      <th></th>\n",
       "      <th>amount</th>\n",
       "    </tr>\n",
       "  </thead>\n",
       "  <tbody>\n",
       "    <tr>\n",
       "      <th>crypto</th>\n",
       "      <td>92283.823</td>\n",
       "    </tr>\n",
       "    <tr>\n",
       "      <th>stock/bond</th>\n",
       "      <td>60689.500</td>\n",
       "    </tr>\n",
       "  </tbody>\n",
       "</table>\n",
       "</div>"
      ],
      "text/plain": [
       "               amount\n",
       "crypto      92283.823\n",
       "stock/bond  60689.500"
      ]
     },
     "metadata": {},
     "output_type": "display_data"
    }
   ],
   "source": [
    "# Create a Pandas DataFrame called savings_df \n",
    "savings_df = pd.DataFrame(\n",
    "    data = savings_data,\n",
    "    index = ['crypto', 'stock/bond'],\n",
    "    columns = ['amount'])\n",
    "\n",
    "# Display the savings_df DataFrame\n",
    "display(savings_df)"
   ]
  },
  {
   "cell_type": "markdown",
   "metadata": {},
   "source": [
    "#### Step 3: Use the `savings_df` DataFrame to plot a pie chart that visualizes the composition of the member’s portfolio. The y-axis of the pie chart uses `amount`. Be sure to add a title."
   ]
  },
  {
   "cell_type": "code",
   "execution_count": 25,
   "metadata": {},
   "outputs": [
    {
     "data": {
      "text/plain": [
       "array([<AxesSubplot:ylabel='Amount'>], dtype=object)"
      ]
     },
     "execution_count": 25,
     "metadata": {},
     "output_type": "execute_result"
    },
    {
     "data": {
      "image/png": "[encoded data removed]",
      "text/plain": [
       "<Figure size 504x504 with 1 Axes>"
      ]
     },
     "metadata": {},
     "output_type": "display_data"
    }
   ],
   "source": [
    "# Plot the total value of the member's portfolio (crypto and stock/bond) in a pie chart\n",
    "savings_df.plot.pie(title = \"Total Value of Member's Portfolio\", ylabel = 'Amount', subplots = True, figsize = (7, 7))"
   ]
  },
  {
   "cell_type": "markdown",
   "metadata": {},
   "source": [
    "#### Step 4: Using Python, determine if the current portfolio has enough to create an emergency fund as part of the member’s financial plan. Ideally, an emergency fund should equal to three times the member’s monthly income. To do this, implement the following steps:\n",
    "\n",
    "Step 1. Create a variable named `emergency_fund_value`, and set it equal to three times the value of the member’s `monthly_income` of 12000. (You set this earlier in Part 1).\n",
    "\n",
    "Step 2. Create a series of three if statements to determine if the member’s total portfolio is large enough to fund the emergency portfolio:\n",
    "\n",
    "* If the total portfolio value is greater than the emergency fund value, display a message congratulating the member for having enough money in this fund.\n",
    "\n",
    "* Else if the total portfolio value is equal to the emergency fund value, display a message congratulating the member on reaching this important financial goal.\n",
    "\n",
    "* Else the total portfolio is less than the emergency fund value, so display a message showing how many dollars away the member is from reaching the goal. (Subtract the total portfolio value from the emergency fund value.)\n"
   ]
  },
  {
   "cell_type": "markdown",
   "metadata": {},
   "source": [
    "##### Step 4-1: Create a variable named `emergency_fund_value`, and set it equal to three times the value of the member’s `monthly_income` of 12000. (You set this earlier in Part 1)."
   ]
  },
  {
   "cell_type": "code",
   "execution_count": 26,
   "metadata": {},
   "outputs": [],
   "source": [
    "# Create a variable named emergency_fund_value\n",
    "emergency_fund_value = 3 * monthly_income"
   ]
  },
  {
   "cell_type": "markdown",
   "metadata": {},
   "source": [
    "##### Step 4-2: Create a series of three if statements to determine if the member’s total portfolio is large enough to fund the emergency portfolio:\n",
    "\n",
    "* If the total portfolio value is greater than the emergency fund value, display a message congratulating the member for having enough money in this fund.\n",
    "\n",
    "* Else if the total portfolio value is equal to the emergency fund value, display a message congratulating the member on reaching this important financial goal.\n",
    "\n",
    "* Else the total portfolio is less than the emergency fund value, so display a message showing how many dollars away the member is from reaching the goal. (Subtract the total portfolio value from the emergency fund value.)"
   ]
  },
  {
   "cell_type": "code",
   "execution_count": 27,
   "metadata": {},
   "outputs": [
    {
     "name": "stdout",
     "output_type": "stream",
     "text": [
      "Congratulations! You have enough money in this fund.\n"
     ]
    }
   ],
   "source": [
    "# Evaluate the possibility of creating an emergency fund with 3 conditions:\n",
    "if total_portfolio > emergency_fund_value:\n",
    "    print('Congratulations! You have enough money in this fund.')\n",
    "elif total_portfolio == emergency_fund_value:\n",
    "    print(\"Great news! You've reached an important financial goal.\")\n",
    "else:\n",
    "    print(f'You are ${emergency_fund_value - total_portfolio: ,.2f} USD short away of reaching an important financial goal.')"
   ]
  },
  {
   "cell_type": "markdown",
   "metadata": {},
   "source": [
    "## Part 2: Create a Financial Planner for Retirement"
   ]
  },
  {
   "cell_type": "raw",
   "metadata": {},
   "source": [
    "### Create the Monte Carlo Simulation\n",
    "\n",
    "In this section, you’ll use the MCForecastTools library to create a Monte Carlo simulation for the member’s savings portfolio. To do this, complete the following steps:\n",
    "\n",
    "1. Make an API call via the Alpaca SDK to get 3 years of historical closing prices for a traditional 60/40 portfolio split: 60% stocks (SPY) and 40% bonds (AGG).\n",
    "\n",
    "2. Run a Monte Carlo simulation of 500 samples and 30 years for the 60/40 portfolio, and then plot the results.The following image shows the overlay line plot resulting from a simulation with these characteristics. However, because a random number generator is used to run each live Monte Carlo simulation, your image will differ slightly from this exact image:\n",
    "\n",
    "![A screenshot depicts the resulting plot.](Images/5-4-monte-carlo-line-plot.png)\n",
    "\n",
    "3. Plot the probability distribution of the Monte Carlo simulation. Plot the probability distribution of the Monte Carlo simulation. The following image shows the histogram plot resulting from a simulation with these characteristics. However, because a random number generator is used to run each live Monte Carlo simulation, your image will differ slightly from this exact image:\n",
    "\n",
    "![A screenshot depicts the histogram plot.](Images/5-4-monte-carlo-histogram.png)\n",
    "\n",
    "4. Generate the summary statistics for the Monte Carlo simulation.\n",
    "\n"
   ]
  },
  {
   "cell_type": "markdown",
   "metadata": {},
   "source": [
    "#### Step 1: Make an API call via the Alpaca SDK to get 3 years of historical closing prices for a traditional 60/40 portfolio split: 60% stocks (SPY) and 40% bonds (AGG)."
   ]
  },
  {
   "cell_type": "code",
   "execution_count": 28,
   "metadata": {},
   "outputs": [],
   "source": [
    "# Set start and end dates of 3 years back from your current date\n",
    "# Alternatively, you can use an end date of 2020-08-07 and work 3 years back from that date \n",
    "start_date_retire = pd.Timestamp('2018-10-27', tz = 'America/New_York').isoformat()\n",
    "end_date_retire = pd.Timestamp('2021-10-27', tz = 'America/New_York').isoformat()\n",
    "\n",
    "# Set number of rows to 1000 to retrieve the maximum amount of rows\n",
    "limit_rows = 1000"
   ]
  },
  {
   "cell_type": "code",
   "execution_count": 29,
   "metadata": {},
   "outputs": [
    {
     "data": {
      "text/html": [
       "<div>\n",
       "<style scoped>\n",
       "    .dataframe tbody tr th:only-of-type {\n",
       "        vertical-align: middle;\n",
       "    }\n",
       "\n",
       "    .dataframe tbody tr th {\n",
       "        vertical-align: top;\n",
       "    }\n",
       "\n",
       "    .dataframe thead tr th {\n",
       "        text-align: left;\n",
       "    }\n",
       "\n",
       "    .dataframe thead tr:last-of-type th {\n",
       "        text-align: right;\n",
       "    }\n",
       "</style>\n",
       "<table border=\"1\" class=\"dataframe\">\n",
       "  <thead>\n",
       "    <tr>\n",
       "      <th></th>\n",
       "      <th colspan=\"5\" halign=\"left\">AGG</th>\n",
       "      <th colspan=\"5\" halign=\"left\">SPY</th>\n",
       "    </tr>\n",
       "    <tr>\n",
       "      <th></th>\n",
       "      <th>open</th>\n",
       "      <th>high</th>\n",
       "      <th>low</th>\n",
       "      <th>close</th>\n",
       "      <th>volume</th>\n",
       "      <th>open</th>\n",
       "      <th>high</th>\n",
       "      <th>low</th>\n",
       "      <th>close</th>\n",
       "      <th>volume</th>\n",
       "    </tr>\n",
       "    <tr>\n",
       "      <th>time</th>\n",
       "      <th></th>\n",
       "      <th></th>\n",
       "      <th></th>\n",
       "      <th></th>\n",
       "      <th></th>\n",
       "      <th></th>\n",
       "      <th></th>\n",
       "      <th></th>\n",
       "      <th></th>\n",
       "      <th></th>\n",
       "    </tr>\n",
       "  </thead>\n",
       "  <tbody>\n",
       "    <tr>\n",
       "      <th>2018-10-29 00:00:00-04:00</th>\n",
       "      <td>104.86</td>\n",
       "      <td>104.89</td>\n",
       "      <td>104.72</td>\n",
       "      <td>104.79</td>\n",
       "      <td>3599179.0</td>\n",
       "      <td>268.78</td>\n",
       "      <td>270.25</td>\n",
       "      <td>259.85</td>\n",
       "      <td>263.80</td>\n",
       "      <td>120705901</td>\n",
       "    </tr>\n",
       "    <tr>\n",
       "      <th>2018-10-30 00:00:00-04:00</th>\n",
       "      <td>104.68</td>\n",
       "      <td>104.78</td>\n",
       "      <td>104.64</td>\n",
       "      <td>104.65</td>\n",
       "      <td>2246561.0</td>\n",
       "      <td>263.67</td>\n",
       "      <td>268.12</td>\n",
       "      <td>263.12</td>\n",
       "      <td>267.81</td>\n",
       "      <td>122643325</td>\n",
       "    </tr>\n",
       "    <tr>\n",
       "      <th>2018-10-31 00:00:00-04:00</th>\n",
       "      <td>104.50</td>\n",
       "      <td>104.70</td>\n",
       "      <td>104.50</td>\n",
       "      <td>104.58</td>\n",
       "      <td>11670445.0</td>\n",
       "      <td>270.65</td>\n",
       "      <td>273.23</td>\n",
       "      <td>270.12</td>\n",
       "      <td>270.69</td>\n",
       "      <td>97427146</td>\n",
       "    </tr>\n",
       "    <tr>\n",
       "      <th>2018-11-01 00:00:00-04:00</th>\n",
       "      <td>104.22</td>\n",
       "      <td>104.41</td>\n",
       "      <td>104.21</td>\n",
       "      <td>104.35</td>\n",
       "      <td>6974347.0</td>\n",
       "      <td>271.62</td>\n",
       "      <td>273.73</td>\n",
       "      <td>270.38</td>\n",
       "      <td>273.51</td>\n",
       "      <td>72100016</td>\n",
       "    </tr>\n",
       "    <tr>\n",
       "      <th>2018-11-02 00:00:00-04:00</th>\n",
       "      <td>104.25</td>\n",
       "      <td>104.29</td>\n",
       "      <td>103.94</td>\n",
       "      <td>104.01</td>\n",
       "      <td>4207916.0</td>\n",
       "      <td>274.74</td>\n",
       "      <td>275.23</td>\n",
       "      <td>269.59</td>\n",
       "      <td>271.80</td>\n",
       "      <td>93545041</td>\n",
       "    </tr>\n",
       "  </tbody>\n",
       "</table>\n",
       "</div>"
      ],
      "text/plain": [
       "                              AGG                                         SPY  \\\n",
       "                             open    high     low   close      volume    open   \n",
       "time                                                                            \n",
       "2018-10-29 00:00:00-04:00  104.86  104.89  104.72  104.79   3599179.0  268.78   \n",
       "2018-10-30 00:00:00-04:00  104.68  104.78  104.64  104.65   2246561.0  263.67   \n",
       "2018-10-31 00:00:00-04:00  104.50  104.70  104.50  104.58  11670445.0  270.65   \n",
       "2018-11-01 00:00:00-04:00  104.22  104.41  104.21  104.35   6974347.0  271.62   \n",
       "2018-11-02 00:00:00-04:00  104.25  104.29  103.94  104.01   4207916.0  274.74   \n",
       "\n",
       "                                                              \n",
       "                             high     low   close     volume  \n",
       "time                                                          \n",
       "2018-10-29 00:00:00-04:00  270.25  259.85  263.80  120705901  \n",
       "2018-10-30 00:00:00-04:00  268.12  263.12  267.81  122643325  \n",
       "2018-10-31 00:00:00-04:00  273.23  270.12  270.69   97427146  \n",
       "2018-11-01 00:00:00-04:00  273.73  270.38  273.51   72100016  \n",
       "2018-11-02 00:00:00-04:00  275.23  269.59  271.80   93545041  "
      ]
     },
     "metadata": {},
     "output_type": "display_data"
    },
    {
     "data": {
      "text/html": [
       "<div>\n",
       "<style scoped>\n",
       "    .dataframe tbody tr th:only-of-type {\n",
       "        vertical-align: middle;\n",
       "    }\n",
       "\n",
       "    .dataframe tbody tr th {\n",
       "        vertical-align: top;\n",
       "    }\n",
       "\n",
       "    .dataframe thead tr th {\n",
       "        text-align: left;\n",
       "    }\n",
       "\n",
       "    .dataframe thead tr:last-of-type th {\n",
       "        text-align: right;\n",
       "    }\n",
       "</style>\n",
       "<table border=\"1\" class=\"dataframe\">\n",
       "  <thead>\n",
       "    <tr>\n",
       "      <th></th>\n",
       "      <th colspan=\"5\" halign=\"left\">AGG</th>\n",
       "      <th colspan=\"5\" halign=\"left\">SPY</th>\n",
       "    </tr>\n",
       "    <tr>\n",
       "      <th></th>\n",
       "      <th>open</th>\n",
       "      <th>high</th>\n",
       "      <th>low</th>\n",
       "      <th>close</th>\n",
       "      <th>volume</th>\n",
       "      <th>open</th>\n",
       "      <th>high</th>\n",
       "      <th>low</th>\n",
       "      <th>close</th>\n",
       "      <th>volume</th>\n",
       "    </tr>\n",
       "    <tr>\n",
       "      <th>time</th>\n",
       "      <th></th>\n",
       "      <th></th>\n",
       "      <th></th>\n",
       "      <th></th>\n",
       "      <th></th>\n",
       "      <th></th>\n",
       "      <th></th>\n",
       "      <th></th>\n",
       "      <th></th>\n",
       "      <th></th>\n",
       "    </tr>\n",
       "  </thead>\n",
       "  <tbody>\n",
       "    <tr>\n",
       "      <th>2021-10-21 00:00:00-04:00</th>\n",
       "      <td>114.01</td>\n",
       "      <td>114.0400</td>\n",
       "      <td>113.8423</td>\n",
       "      <td>113.85</td>\n",
       "      <td>4741154.0</td>\n",
       "      <td>451.76</td>\n",
       "      <td>453.829</td>\n",
       "      <td>451.31</td>\n",
       "      <td>453.61</td>\n",
       "      <td>33945007</td>\n",
       "    </tr>\n",
       "    <tr>\n",
       "      <th>2021-10-22 00:00:00-04:00</th>\n",
       "      <td>113.97</td>\n",
       "      <td>114.1399</td>\n",
       "      <td>113.8950</td>\n",
       "      <td>114.07</td>\n",
       "      <td>3309637.0</td>\n",
       "      <td>453.13</td>\n",
       "      <td>454.670</td>\n",
       "      <td>451.05</td>\n",
       "      <td>453.13</td>\n",
       "      <td>50771701</td>\n",
       "    </tr>\n",
       "    <tr>\n",
       "      <th>2021-10-25 00:00:00-04:00</th>\n",
       "      <td>114.06</td>\n",
       "      <td>114.2700</td>\n",
       "      <td>114.0600</td>\n",
       "      <td>114.17</td>\n",
       "      <td>7088133.0</td>\n",
       "      <td>454.28</td>\n",
       "      <td>455.900</td>\n",
       "      <td>452.39</td>\n",
       "      <td>455.48</td>\n",
       "      <td>37918548</td>\n",
       "    </tr>\n",
       "    <tr>\n",
       "      <th>2021-10-26 00:00:00-04:00</th>\n",
       "      <td>114.25</td>\n",
       "      <td>114.3800</td>\n",
       "      <td>114.1100</td>\n",
       "      <td>114.37</td>\n",
       "      <td>5284755.0</td>\n",
       "      <td>457.20</td>\n",
       "      <td>458.490</td>\n",
       "      <td>455.56</td>\n",
       "      <td>455.97</td>\n",
       "      <td>49865704</td>\n",
       "    </tr>\n",
       "    <tr>\n",
       "      <th>2021-10-27 00:00:00-04:00</th>\n",
       "      <td>114.66</td>\n",
       "      <td>114.9150</td>\n",
       "      <td>114.4250</td>\n",
       "      <td>114.77</td>\n",
       "      <td>6754544.0</td>\n",
       "      <td>456.45</td>\n",
       "      <td>457.160</td>\n",
       "      <td>453.86</td>\n",
       "      <td>453.92</td>\n",
       "      <td>48105590</td>\n",
       "    </tr>\n",
       "  </tbody>\n",
       "</table>\n",
       "</div>"
      ],
      "text/plain": [
       "                              AGG                                         \\\n",
       "                             open      high       low   close     volume   \n",
       "time                                                                       \n",
       "2021-10-21 00:00:00-04:00  114.01  114.0400  113.8423  113.85  4741154.0   \n",
       "2021-10-22 00:00:00-04:00  113.97  114.1399  113.8950  114.07  3309637.0   \n",
       "2021-10-25 00:00:00-04:00  114.06  114.2700  114.0600  114.17  7088133.0   \n",
       "2021-10-26 00:00:00-04:00  114.25  114.3800  114.1100  114.37  5284755.0   \n",
       "2021-10-27 00:00:00-04:00  114.66  114.9150  114.4250  114.77  6754544.0   \n",
       "\n",
       "                              SPY                                     \n",
       "                             open     high     low   close    volume  \n",
       "time                                                                  \n",
       "2021-10-21 00:00:00-04:00  451.76  453.829  451.31  453.61  33945007  \n",
       "2021-10-22 00:00:00-04:00  453.13  454.670  451.05  453.13  50771701  \n",
       "2021-10-25 00:00:00-04:00  454.28  455.900  452.39  455.48  37918548  \n",
       "2021-10-26 00:00:00-04:00  457.20  458.490  455.56  455.97  49865704  \n",
       "2021-10-27 00:00:00-04:00  456.45  457.160  453.86  453.92  48105590  "
      ]
     },
     "metadata": {},
     "output_type": "display_data"
    }
   ],
   "source": [
    "# Use the Alpaca get_barset function to make the API call to get the 3 years worth of pricing data\n",
    "# The tickers and timeframe parameters should have been set in Part 1 of this activity \n",
    "# The start and end dates should be updated with the information set above\n",
    "# Remember to add the df property to the end of the call so the response is returned as a DataFrame\n",
    "prices_data_df = alpaca.get_barset(\n",
    "    tickers,\n",
    "    timeframe,\n",
    "    start = start_date_retire,\n",
    "    limit = limit_rows,\n",
    "    end = end_date_retire).df\n",
    "\n",
    "# Display both the first and last five rows of the DataFrame\n",
    "display(prices_data_df.head())\n",
    "display(prices_data_df.tail())"
   ]
  },
  {
   "cell_type": "markdown",
   "metadata": {},
   "source": [
    "#### Step 2: Run a Monte Carlo simulation of 500 samples and 30 years for the 60/40 portfolio, and then plot the results."
   ]
  },
  {
   "cell_type": "code",
   "execution_count": 30,
   "metadata": {},
   "outputs": [
    {
     "data": {
      "text/html": [
       "<div>\n",
       "<style scoped>\n",
       "    .dataframe tbody tr th:only-of-type {\n",
       "        vertical-align: middle;\n",
       "    }\n",
       "\n",
       "    .dataframe tbody tr th {\n",
       "        vertical-align: top;\n",
       "    }\n",
       "\n",
       "    .dataframe thead tr th {\n",
       "        text-align: left;\n",
       "    }\n",
       "\n",
       "    .dataframe thead tr:last-of-type th {\n",
       "        text-align: right;\n",
       "    }\n",
       "</style>\n",
       "<table border=\"1\" class=\"dataframe\">\n",
       "  <thead>\n",
       "    <tr>\n",
       "      <th></th>\n",
       "      <th colspan=\"6\" halign=\"left\">AGG</th>\n",
       "      <th colspan=\"6\" halign=\"left\">SPY</th>\n",
       "    </tr>\n",
       "    <tr>\n",
       "      <th></th>\n",
       "      <th>open</th>\n",
       "      <th>high</th>\n",
       "      <th>low</th>\n",
       "      <th>close</th>\n",
       "      <th>volume</th>\n",
       "      <th>daily_return</th>\n",
       "      <th>open</th>\n",
       "      <th>high</th>\n",
       "      <th>low</th>\n",
       "      <th>close</th>\n",
       "      <th>volume</th>\n",
       "      <th>daily_return</th>\n",
       "    </tr>\n",
       "    <tr>\n",
       "      <th>time</th>\n",
       "      <th></th>\n",
       "      <th></th>\n",
       "      <th></th>\n",
       "      <th></th>\n",
       "      <th></th>\n",
       "      <th></th>\n",
       "      <th></th>\n",
       "      <th></th>\n",
       "      <th></th>\n",
       "      <th></th>\n",
       "      <th></th>\n",
       "      <th></th>\n",
       "    </tr>\n",
       "  </thead>\n",
       "  <tbody>\n",
       "    <tr>\n",
       "      <th>2018-10-29 00:00:00-04:00</th>\n",
       "      <td>104.86</td>\n",
       "      <td>104.89</td>\n",
       "      <td>104.72</td>\n",
       "      <td>104.79</td>\n",
       "      <td>3599179.0</td>\n",
       "      <td>NaN</td>\n",
       "      <td>268.78</td>\n",
       "      <td>270.25</td>\n",
       "      <td>259.85</td>\n",
       "      <td>263.80</td>\n",
       "      <td>120705901</td>\n",
       "      <td>NaN</td>\n",
       "    </tr>\n",
       "    <tr>\n",
       "      <th>2018-10-30 00:00:00-04:00</th>\n",
       "      <td>104.68</td>\n",
       "      <td>104.78</td>\n",
       "      <td>104.64</td>\n",
       "      <td>104.65</td>\n",
       "      <td>2246561.0</td>\n",
       "      <td>-0.001336</td>\n",
       "      <td>263.67</td>\n",
       "      <td>268.12</td>\n",
       "      <td>263.12</td>\n",
       "      <td>267.81</td>\n",
       "      <td>122643325</td>\n",
       "      <td>0.015201</td>\n",
       "    </tr>\n",
       "    <tr>\n",
       "      <th>2018-10-31 00:00:00-04:00</th>\n",
       "      <td>104.50</td>\n",
       "      <td>104.70</td>\n",
       "      <td>104.50</td>\n",
       "      <td>104.58</td>\n",
       "      <td>11670445.0</td>\n",
       "      <td>-0.000669</td>\n",
       "      <td>270.65</td>\n",
       "      <td>273.23</td>\n",
       "      <td>270.12</td>\n",
       "      <td>270.69</td>\n",
       "      <td>97427146</td>\n",
       "      <td>0.010754</td>\n",
       "    </tr>\n",
       "    <tr>\n",
       "      <th>2018-11-01 00:00:00-04:00</th>\n",
       "      <td>104.22</td>\n",
       "      <td>104.41</td>\n",
       "      <td>104.21</td>\n",
       "      <td>104.35</td>\n",
       "      <td>6974347.0</td>\n",
       "      <td>-0.002199</td>\n",
       "      <td>271.62</td>\n",
       "      <td>273.73</td>\n",
       "      <td>270.38</td>\n",
       "      <td>273.51</td>\n",
       "      <td>72100016</td>\n",
       "      <td>0.010418</td>\n",
       "    </tr>\n",
       "    <tr>\n",
       "      <th>2018-11-02 00:00:00-04:00</th>\n",
       "      <td>104.25</td>\n",
       "      <td>104.29</td>\n",
       "      <td>103.94</td>\n",
       "      <td>104.01</td>\n",
       "      <td>4207916.0</td>\n",
       "      <td>-0.003258</td>\n",
       "      <td>274.74</td>\n",
       "      <td>275.23</td>\n",
       "      <td>269.59</td>\n",
       "      <td>271.80</td>\n",
       "      <td>93545041</td>\n",
       "      <td>-0.006252</td>\n",
       "    </tr>\n",
       "  </tbody>\n",
       "</table>\n",
       "</div>"
      ],
      "text/plain": [
       "                              AGG                                      \\\n",
       "                             open    high     low   close      volume   \n",
       "time                                                                    \n",
       "2018-10-29 00:00:00-04:00  104.86  104.89  104.72  104.79   3599179.0   \n",
       "2018-10-30 00:00:00-04:00  104.68  104.78  104.64  104.65   2246561.0   \n",
       "2018-10-31 00:00:00-04:00  104.50  104.70  104.50  104.58  11670445.0   \n",
       "2018-11-01 00:00:00-04:00  104.22  104.41  104.21  104.35   6974347.0   \n",
       "2018-11-02 00:00:00-04:00  104.25  104.29  103.94  104.01   4207916.0   \n",
       "\n",
       "                                           SPY                          \\\n",
       "                          daily_return    open    high     low   close   \n",
       "time                                                                     \n",
       "2018-10-29 00:00:00-04:00          NaN  268.78  270.25  259.85  263.80   \n",
       "2018-10-30 00:00:00-04:00    -0.001336  263.67  268.12  263.12  267.81   \n",
       "2018-10-31 00:00:00-04:00    -0.000669  270.65  273.23  270.12  270.69   \n",
       "2018-11-01 00:00:00-04:00    -0.002199  271.62  273.73  270.38  273.51   \n",
       "2018-11-02 00:00:00-04:00    -0.003258  274.74  275.23  269.59  271.80   \n",
       "\n",
       "                                                   \n",
       "                              volume daily_return  \n",
       "time                                               \n",
       "2018-10-29 00:00:00-04:00  120705901          NaN  \n",
       "2018-10-30 00:00:00-04:00  122643325     0.015201  \n",
       "2018-10-31 00:00:00-04:00   97427146     0.010754  \n",
       "2018-11-01 00:00:00-04:00   72100016     0.010418  \n",
       "2018-11-02 00:00:00-04:00   93545041    -0.006252  "
      ]
     },
     "execution_count": 30,
     "metadata": {},
     "output_type": "execute_result"
    }
   ],
   "source": [
    "# Configure the Monte Carlo simulation to forecast 30 years cumulative returns\n",
    "# The weights should be split 40% to AGG and 60% to SPY.\n",
    "# Run 500 samples.\n",
    "MC_30year = MCSimulation(\n",
    "    portfolio_data = prices_data_df,\n",
    "    weights = [.40, .60],\n",
    "    num_simulation = 500,\n",
    "    num_trading_days = 252 * 30,\n",
    ")\n",
    "\n",
    "# Review the simulation input data\n",
    "MC_30year.portfolio_data.head()"
   ]
  },
  {
   "cell_type": "code",
   "execution_count": 31,
   "metadata": {},
   "outputs": [
    {
     "name": "stdout",
     "output_type": "stream",
     "text": [
      "Running Monte Carlo simulation number 0.\n",
      "Running Monte Carlo simulation number 10.\n",
      "Running Monte Carlo simulation number 20.\n",
      "Running Monte Carlo simulation number 30.\n",
      "Running Monte Carlo simulation number 40.\n",
      "Running Monte Carlo simulation number 50.\n",
      "Running Monte Carlo simulation number 60.\n",
      "Running Monte Carlo simulation number 70.\n",
      "Running Monte Carlo simulation number 80.\n",
      "Running Monte Carlo simulation number 90.\n",
      "Running Monte Carlo simulation number 100.\n",
      "Running Monte Carlo simulation number 110.\n",
      "Running Monte Carlo simulation number 120.\n",
      "Running Monte Carlo simulation number 130.\n",
      "Running Monte Carlo simulation number 140.\n",
      "Running Monte Carlo simulation number 150.\n",
      "Running Monte Carlo simulation number 160.\n",
      "Running Monte Carlo simulation number 170.\n",
      "Running Monte Carlo simulation number 180.\n",
      "Running Monte Carlo simulation number 190.\n",
      "Running Monte Carlo simulation number 200.\n",
      "Running Monte Carlo simulation number 210.\n",
      "Running Monte Carlo simulation number 220.\n",
      "Running Monte Carlo simulation number 230.\n",
      "Running Monte Carlo simulation number 240.\n",
      "Running Monte Carlo simulation number 250.\n",
      "Running Monte Carlo simulation number 260.\n",
      "Running Monte Carlo simulation number 270.\n",
      "Running Monte Carlo simulation number 280.\n",
      "Running Monte Carlo simulation number 290.\n",
      "Running Monte Carlo simulation number 300.\n",
      "Running Monte Carlo simulation number 310.\n",
      "Running Monte Carlo simulation number 320.\n",
      "Running Monte Carlo simulation number 330.\n",
      "Running Monte Carlo simulation number 340.\n",
      "Running Monte Carlo simulation number 350.\n",
      "Running Monte Carlo simulation number 360.\n",
      "Running Monte Carlo simulation number 370.\n",
      "Running Monte Carlo simulation number 380.\n",
      "Running Monte Carlo simulation number 390.\n",
      "Running Monte Carlo simulation number 400.\n",
      "Running Monte Carlo simulation number 410.\n",
      "Running Monte Carlo simulation number 420.\n",
      "Running Monte Carlo simulation number 430.\n",
      "Running Monte Carlo simulation number 440.\n",
      "Running Monte Carlo simulation number 450.\n",
      "Running Monte Carlo simulation number 460.\n",
      "Running Monte Carlo simulation number 470.\n",
      "Running Monte Carlo simulation number 480.\n",
      "Running Monte Carlo simulation number 490.\n"
     ]
    },
    {
     "data": {
      "text/html": [
       "<div>\n",
       "<style scoped>\n",
       "    .dataframe tbody tr th:only-of-type {\n",
       "        vertical-align: middle;\n",
       "    }\n",
       "\n",
       "    .dataframe tbody tr th {\n",
       "        vertical-align: top;\n",
       "    }\n",
       "\n",
       "    .dataframe thead th {\n",
       "        text-align: right;\n",
       "    }\n",
       "</style>\n",
       "<table border=\"1\" class=\"dataframe\">\n",
       "  <thead>\n",
       "    <tr style=\"text-align: right;\">\n",
       "      <th></th>\n",
       "      <th>0</th>\n",
       "      <th>1</th>\n",
       "      <th>2</th>\n",
       "      <th>3</th>\n",
       "      <th>4</th>\n",
       "      <th>5</th>\n",
       "      <th>6</th>\n",
       "      <th>7</th>\n",
       "      <th>8</th>\n",
       "      <th>9</th>\n",
       "      <th>...</th>\n",
       "      <th>490</th>\n",
       "      <th>491</th>\n",
       "      <th>492</th>\n",
       "      <th>493</th>\n",
       "      <th>494</th>\n",
       "      <th>495</th>\n",
       "      <th>496</th>\n",
       "      <th>497</th>\n",
       "      <th>498</th>\n",
       "      <th>499</th>\n",
       "    </tr>\n",
       "  </thead>\n",
       "  <tbody>\n",
       "    <tr>\n",
       "      <th>0</th>\n",
       "      <td>1.000000</td>\n",
       "      <td>1.000000</td>\n",
       "      <td>1.000000</td>\n",
       "      <td>1.000000</td>\n",
       "      <td>1.000000</td>\n",
       "      <td>1.000000</td>\n",
       "      <td>1.000000</td>\n",
       "      <td>1.000000</td>\n",
       "      <td>1.000000</td>\n",
       "      <td>1.000000</td>\n",
       "      <td>...</td>\n",
       "      <td>1.000000</td>\n",
       "      <td>1.000000</td>\n",
       "      <td>1.000000</td>\n",
       "      <td>1.000000</td>\n",
       "      <td>1.000000</td>\n",
       "      <td>1.000000</td>\n",
       "      <td>1.000000</td>\n",
       "      <td>1.000000</td>\n",
       "      <td>1.000000</td>\n",
       "      <td>1.000000</td>\n",
       "    </tr>\n",
       "    <tr>\n",
       "      <th>1</th>\n",
       "      <td>0.999525</td>\n",
       "      <td>0.996315</td>\n",
       "      <td>0.991362</td>\n",
       "      <td>0.998752</td>\n",
       "      <td>0.997227</td>\n",
       "      <td>0.990894</td>\n",
       "      <td>0.990600</td>\n",
       "      <td>1.004863</td>\n",
       "      <td>0.989682</td>\n",
       "      <td>1.000811</td>\n",
       "      <td>...</td>\n",
       "      <td>1.008413</td>\n",
       "      <td>0.993400</td>\n",
       "      <td>1.006491</td>\n",
       "      <td>0.989533</td>\n",
       "      <td>0.986664</td>\n",
       "      <td>1.019392</td>\n",
       "      <td>0.999843</td>\n",
       "      <td>0.992363</td>\n",
       "      <td>0.997354</td>\n",
       "      <td>1.019666</td>\n",
       "    </tr>\n",
       "    <tr>\n",
       "      <th>2</th>\n",
       "      <td>0.992163</td>\n",
       "      <td>0.997298</td>\n",
       "      <td>0.996999</td>\n",
       "      <td>0.989846</td>\n",
       "      <td>0.992043</td>\n",
       "      <td>0.998787</td>\n",
       "      <td>0.974984</td>\n",
       "      <td>1.011374</td>\n",
       "      <td>0.986026</td>\n",
       "      <td>1.006871</td>\n",
       "      <td>...</td>\n",
       "      <td>1.005932</td>\n",
       "      <td>0.979578</td>\n",
       "      <td>1.029014</td>\n",
       "      <td>0.994060</td>\n",
       "      <td>0.981442</td>\n",
       "      <td>1.014807</td>\n",
       "      <td>1.004054</td>\n",
       "      <td>0.998916</td>\n",
       "      <td>0.981731</td>\n",
       "      <td>1.010647</td>\n",
       "    </tr>\n",
       "    <tr>\n",
       "      <th>3</th>\n",
       "      <td>1.005509</td>\n",
       "      <td>1.002618</td>\n",
       "      <td>1.005900</td>\n",
       "      <td>0.995418</td>\n",
       "      <td>0.978302</td>\n",
       "      <td>1.001626</td>\n",
       "      <td>0.966186</td>\n",
       "      <td>1.000382</td>\n",
       "      <td>0.980234</td>\n",
       "      <td>0.993733</td>\n",
       "      <td>...</td>\n",
       "      <td>1.005808</td>\n",
       "      <td>0.985178</td>\n",
       "      <td>1.017921</td>\n",
       "      <td>0.997433</td>\n",
       "      <td>0.982733</td>\n",
       "      <td>1.006319</td>\n",
       "      <td>1.012094</td>\n",
       "      <td>1.005793</td>\n",
       "      <td>0.987163</td>\n",
       "      <td>1.023828</td>\n",
       "    </tr>\n",
       "    <tr>\n",
       "      <th>4</th>\n",
       "      <td>0.995293</td>\n",
       "      <td>1.009789</td>\n",
       "      <td>1.015621</td>\n",
       "      <td>1.006000</td>\n",
       "      <td>0.976062</td>\n",
       "      <td>1.003396</td>\n",
       "      <td>0.965181</td>\n",
       "      <td>1.010859</td>\n",
       "      <td>0.977509</td>\n",
       "      <td>0.983696</td>\n",
       "      <td>...</td>\n",
       "      <td>0.983034</td>\n",
       "      <td>0.990810</td>\n",
       "      <td>1.029914</td>\n",
       "      <td>1.005611</td>\n",
       "      <td>0.996572</td>\n",
       "      <td>1.015483</td>\n",
       "      <td>1.022381</td>\n",
       "      <td>1.002368</td>\n",
       "      <td>1.008852</td>\n",
       "      <td>1.025814</td>\n",
       "    </tr>\n",
       "    <tr>\n",
       "      <th>...</th>\n",
       "      <td>...</td>\n",
       "      <td>...</td>\n",
       "      <td>...</td>\n",
       "      <td>...</td>\n",
       "      <td>...</td>\n",
       "      <td>...</td>\n",
       "      <td>...</td>\n",
       "      <td>...</td>\n",
       "      <td>...</td>\n",
       "      <td>...</td>\n",
       "      <td>...</td>\n",
       "      <td>...</td>\n",
       "      <td>...</td>\n",
       "      <td>...</td>\n",
       "      <td>...</td>\n",
       "      <td>...</td>\n",
       "      <td>...</td>\n",
       "      <td>...</td>\n",
       "      <td>...</td>\n",
       "      <td>...</td>\n",
       "      <td>...</td>\n",
       "    </tr>\n",
       "    <tr>\n",
       "      <th>7556</th>\n",
       "      <td>162.315271</td>\n",
       "      <td>25.962528</td>\n",
       "      <td>33.595601</td>\n",
       "      <td>20.937952</td>\n",
       "      <td>17.533401</td>\n",
       "      <td>101.653263</td>\n",
       "      <td>27.944209</td>\n",
       "      <td>63.948771</td>\n",
       "      <td>82.435275</td>\n",
       "      <td>32.407231</td>\n",
       "      <td>...</td>\n",
       "      <td>71.623152</td>\n",
       "      <td>14.353008</td>\n",
       "      <td>9.410885</td>\n",
       "      <td>52.029000</td>\n",
       "      <td>70.760932</td>\n",
       "      <td>28.332303</td>\n",
       "      <td>39.573292</td>\n",
       "      <td>117.104743</td>\n",
       "      <td>49.735135</td>\n",
       "      <td>60.384483</td>\n",
       "    </tr>\n",
       "    <tr>\n",
       "      <th>7557</th>\n",
       "      <td>164.602253</td>\n",
       "      <td>26.251459</td>\n",
       "      <td>33.945885</td>\n",
       "      <td>20.531768</td>\n",
       "      <td>17.534300</td>\n",
       "      <td>100.482329</td>\n",
       "      <td>28.100131</td>\n",
       "      <td>63.798544</td>\n",
       "      <td>81.986221</td>\n",
       "      <td>32.670197</td>\n",
       "      <td>...</td>\n",
       "      <td>72.888482</td>\n",
       "      <td>14.214792</td>\n",
       "      <td>9.367332</td>\n",
       "      <td>51.871926</td>\n",
       "      <td>70.607123</td>\n",
       "      <td>27.611714</td>\n",
       "      <td>39.716401</td>\n",
       "      <td>116.708567</td>\n",
       "      <td>49.579604</td>\n",
       "      <td>61.094425</td>\n",
       "    </tr>\n",
       "    <tr>\n",
       "      <th>7558</th>\n",
       "      <td>165.408674</td>\n",
       "      <td>26.529680</td>\n",
       "      <td>33.527613</td>\n",
       "      <td>20.549455</td>\n",
       "      <td>17.768418</td>\n",
       "      <td>101.283211</td>\n",
       "      <td>28.265275</td>\n",
       "      <td>63.480643</td>\n",
       "      <td>81.530449</td>\n",
       "      <td>32.631994</td>\n",
       "      <td>...</td>\n",
       "      <td>73.291323</td>\n",
       "      <td>13.978163</td>\n",
       "      <td>9.380335</td>\n",
       "      <td>51.606663</td>\n",
       "      <td>69.585232</td>\n",
       "      <td>27.582691</td>\n",
       "      <td>39.711226</td>\n",
       "      <td>115.935795</td>\n",
       "      <td>49.825816</td>\n",
       "      <td>61.447816</td>\n",
       "    </tr>\n",
       "    <tr>\n",
       "      <th>7559</th>\n",
       "      <td>167.991852</td>\n",
       "      <td>26.646258</td>\n",
       "      <td>33.463070</td>\n",
       "      <td>20.454303</td>\n",
       "      <td>17.862800</td>\n",
       "      <td>100.827371</td>\n",
       "      <td>28.603751</td>\n",
       "      <td>63.408197</td>\n",
       "      <td>83.386468</td>\n",
       "      <td>32.303109</td>\n",
       "      <td>...</td>\n",
       "      <td>74.570273</td>\n",
       "      <td>13.978379</td>\n",
       "      <td>9.185510</td>\n",
       "      <td>51.921740</td>\n",
       "      <td>69.345722</td>\n",
       "      <td>27.524408</td>\n",
       "      <td>39.738028</td>\n",
       "      <td>116.645651</td>\n",
       "      <td>49.759467</td>\n",
       "      <td>61.958275</td>\n",
       "    </tr>\n",
       "    <tr>\n",
       "      <th>7560</th>\n",
       "      <td>169.156778</td>\n",
       "      <td>26.322886</td>\n",
       "      <td>32.923775</td>\n",
       "      <td>20.441835</td>\n",
       "      <td>17.849151</td>\n",
       "      <td>99.438265</td>\n",
       "      <td>28.672484</td>\n",
       "      <td>63.122501</td>\n",
       "      <td>83.142407</td>\n",
       "      <td>32.283162</td>\n",
       "      <td>...</td>\n",
       "      <td>74.273661</td>\n",
       "      <td>13.719775</td>\n",
       "      <td>9.081713</td>\n",
       "      <td>52.250051</td>\n",
       "      <td>70.115236</td>\n",
       "      <td>27.691015</td>\n",
       "      <td>39.866654</td>\n",
       "      <td>116.484412</td>\n",
       "      <td>49.769737</td>\n",
       "      <td>62.920270</td>\n",
       "    </tr>\n",
       "  </tbody>\n",
       "</table>\n",
       "<p>7561 rows × 500 columns</p>\n",
       "</div>"
      ],
      "text/plain": [
       "             0          1          2          3          4           5    \\\n",
       "0       1.000000   1.000000   1.000000   1.000000   1.000000    1.000000   \n",
       "1       0.999525   0.996315   0.991362   0.998752   0.997227    0.990894   \n",
       "2       0.992163   0.997298   0.996999   0.989846   0.992043    0.998787   \n",
       "3       1.005509   1.002618   1.005900   0.995418   0.978302    1.001626   \n",
       "4       0.995293   1.009789   1.015621   1.006000   0.976062    1.003396   \n",
       "...          ...        ...        ...        ...        ...         ...   \n",
       "7556  162.315271  25.962528  33.595601  20.937952  17.533401  101.653263   \n",
       "7557  164.602253  26.251459  33.945885  20.531768  17.534300  100.482329   \n",
       "7558  165.408674  26.529680  33.527613  20.549455  17.768418  101.283211   \n",
       "7559  167.991852  26.646258  33.463070  20.454303  17.862800  100.827371   \n",
       "7560  169.156778  26.322886  32.923775  20.441835  17.849151   99.438265   \n",
       "\n",
       "            6          7          8          9    ...        490        491  \\\n",
       "0      1.000000   1.000000   1.000000   1.000000  ...   1.000000   1.000000   \n",
       "1      0.990600   1.004863   0.989682   1.000811  ...   1.008413   0.993400   \n",
       "2      0.974984   1.011374   0.986026   1.006871  ...   1.005932   0.979578   \n",
       "3      0.966186   1.000382   0.980234   0.993733  ...   1.005808   0.985178   \n",
       "4      0.965181   1.010859   0.977509   0.983696  ...   0.983034   0.990810   \n",
       "...         ...        ...        ...        ...  ...        ...        ...   \n",
       "7556  27.944209  63.948771  82.435275  32.407231  ...  71.623152  14.353008   \n",
       "7557  28.100131  63.798544  81.986221  32.670197  ...  72.888482  14.214792   \n",
       "7558  28.265275  63.480643  81.530449  32.631994  ...  73.291323  13.978163   \n",
       "7559  28.603751  63.408197  83.386468  32.303109  ...  74.570273  13.978379   \n",
       "7560  28.672484  63.122501  83.142407  32.283162  ...  74.273661  13.719775   \n",
       "\n",
       "           492        493        494        495        496         497  \\\n",
       "0     1.000000   1.000000   1.000000   1.000000   1.000000    1.000000   \n",
       "1     1.006491   0.989533   0.986664   1.019392   0.999843    0.992363   \n",
       "2     1.029014   0.994060   0.981442   1.014807   1.004054    0.998916   \n",
       "3     1.017921   0.997433   0.982733   1.006319   1.012094    1.005793   \n",
       "4     1.029914   1.005611   0.996572   1.015483   1.022381    1.002368   \n",
       "...        ...        ...        ...        ...        ...         ...   \n",
       "7556  9.410885  52.029000  70.760932  28.332303  39.573292  117.104743   \n",
       "7557  9.367332  51.871926  70.607123  27.611714  39.716401  116.708567   \n",
       "7558  9.380335  51.606663  69.585232  27.582691  39.711226  115.935795   \n",
       "7559  9.185510  51.921740  69.345722  27.524408  39.738028  116.645651   \n",
       "7560  9.081713  52.250051  70.115236  27.691015  39.866654  116.484412   \n",
       "\n",
       "            498        499  \n",
       "0      1.000000   1.000000  \n",
       "1      0.997354   1.019666  \n",
       "2      0.981731   1.010647  \n",
       "3      0.987163   1.023828  \n",
       "4      1.008852   1.025814  \n",
       "...         ...        ...  \n",
       "7556  49.735135  60.384483  \n",
       "7557  49.579604  61.094425  \n",
       "7558  49.825816  61.447816  \n",
       "7559  49.759467  61.958275  \n",
       "7560  49.769737  62.920270  \n",
       "\n",
       "[7561 rows x 500 columns]"
      ]
     },
     "execution_count": 31,
     "metadata": {},
     "output_type": "execute_result"
    }
   ],
   "source": [
    "# Run the Monte Carlo simulation to forecast 30 years cumulative returns\n",
    "MC_30year.calc_cumulative_return()"
   ]
  },
  {
   "cell_type": "code",
   "execution_count": 32,
   "metadata": {},
   "outputs": [
    {
     "data": {
      "text/plain": [
       "<AxesSubplot:title={'center':'500 Simulations of Cumulative Portfolio Return Trajectories Over the Next 7560 Trading Days.'}>"
      ]
     },
     "execution_count": 32,
     "metadata": {},
     "output_type": "execute_result"
    },
    {
     "data": {
      "image/png": "[encoded data removed]",
      "text/plain": [
       "<Figure size 432x288 with 1 Axes>"
      ]
     },
     "metadata": {
      "needs_background": "light"
     },
     "output_type": "display_data"
    }
   ],
   "source": [
    "# Visualize the 30-year Monte Carlo simulation by creating an\n",
    "# overlay line plot\n",
    "MC_30year.plot_simulation()"
   ]
  },
  {
   "cell_type": "markdown",
   "metadata": {},
   "source": [
    "#### Step 3: Plot the probability distribution of the Monte Carlo simulation."
   ]
  },
  {
   "cell_type": "code",
   "execution_count": 33,
   "metadata": {},
   "outputs": [
    {
     "data": {
      "text/plain": [
       "<AxesSubplot:title={'center':'Distribution of Final Cumuluative Returns Across All 500 Simulations'}, ylabel='Frequency'>"
      ]
     },
     "execution_count": 33,
     "metadata": {},
     "output_type": "execute_result"
    },
    {
     "data": {
      "image/png": "[encoded data removed]",
      "text/plain": [
       "<Figure size 432x288 with 1 Axes>"
      ]
     },
     "metadata": {
      "needs_background": "light"
     },
     "output_type": "display_data"
    }
   ],
   "source": [
    "# Visualize the probability distribution of the 30-year Monte Carlo simulation \n",
    "# by plotting a histogram\n",
    "MC_30year.plot_distribution()"
   ]
  },
  {
   "cell_type": "markdown",
   "metadata": {},
   "source": [
    "#### Step 4: Generate the summary statistics for the Monte Carlo simulation."
   ]
  },
  {
   "cell_type": "code",
   "execution_count": 34,
   "metadata": {},
   "outputs": [
    {
     "name": "stdout",
     "output_type": "stream",
     "text": [
      "count            500.000000\n",
      "mean              62.413210\n",
      "std               67.741155\n",
      "min                3.064570\n",
      "25%               27.067971\n",
      "50%               43.492466\n",
      "75%               76.512205\n",
      "max             1023.093519\n",
      "95% CI Lower      10.763741\n",
      "95% CI Upper     223.643949\n",
      "Name: 7560, dtype: float64\n"
     ]
    }
   ],
   "source": [
    "# Generate summary statistics from the 30-year Monte Carlo simulation results\n",
    "# Save the results as a variable\n",
    "MC_30year_summary_stats = MC_30year.summarize_cumulative_return()\n",
    "\n",
    "# Review the 30-year Monte Carlo summary statistics\n",
    "print(MC_30year_summary_stats)"
   ]
  },
  {
   "cell_type": "markdown",
   "metadata": {},
   "source": [
    "### Analyze the Retirement Portfolio Forecasts\n",
    "\n",
    "Using the current value of only the stock and bond portion of the member's portfolio and the summary statistics that you generated from the Monte Carlo simulation, answer the following question in your Jupyter notebook:\n",
    "\n",
    "-  What are the lower and upper bounds for the expected value of the portfolio with a 95% confidence interval?\n"
   ]
  },
  {
   "cell_type": "code",
   "execution_count": 35,
   "metadata": {},
   "outputs": [
    {
     "data": {
      "text/html": [
       "<div>\n",
       "<style scoped>\n",
       "    .dataframe tbody tr th:only-of-type {\n",
       "        vertical-align: middle;\n",
       "    }\n",
       "\n",
       "    .dataframe tbody tr th {\n",
       "        vertical-align: top;\n",
       "    }\n",
       "\n",
       "    .dataframe thead tr th {\n",
       "        text-align: left;\n",
       "    }\n",
       "\n",
       "    .dataframe thead tr:last-of-type th {\n",
       "        text-align: right;\n",
       "    }\n",
       "</style>\n",
       "<table border=\"1\" class=\"dataframe\">\n",
       "  <thead>\n",
       "    <tr>\n",
       "      <th></th>\n",
       "      <th colspan=\"5\" halign=\"left\">AGG</th>\n",
       "      <th colspan=\"5\" halign=\"left\">SPY</th>\n",
       "    </tr>\n",
       "    <tr>\n",
       "      <th></th>\n",
       "      <th>open</th>\n",
       "      <th>high</th>\n",
       "      <th>low</th>\n",
       "      <th>close</th>\n",
       "      <th>volume</th>\n",
       "      <th>open</th>\n",
       "      <th>high</th>\n",
       "      <th>low</th>\n",
       "      <th>close</th>\n",
       "      <th>volume</th>\n",
       "    </tr>\n",
       "    <tr>\n",
       "      <th>time</th>\n",
       "      <th></th>\n",
       "      <th></th>\n",
       "      <th></th>\n",
       "      <th></th>\n",
       "      <th></th>\n",
       "      <th></th>\n",
       "      <th></th>\n",
       "      <th></th>\n",
       "      <th></th>\n",
       "      <th></th>\n",
       "    </tr>\n",
       "  </thead>\n",
       "  <tbody>\n",
       "    <tr>\n",
       "      <th>2021-10-27 00:00:00-04:00</th>\n",
       "      <td>114.66</td>\n",
       "      <td>114.915</td>\n",
       "      <td>114.425</td>\n",
       "      <td>114.77</td>\n",
       "      <td>6754544.0</td>\n",
       "      <td>456.45</td>\n",
       "      <td>457.16</td>\n",
       "      <td>453.86</td>\n",
       "      <td>453.92</td>\n",
       "      <td>48105590</td>\n",
       "    </tr>\n",
       "  </tbody>\n",
       "</table>\n",
       "</div>"
      ],
      "text/plain": [
       "                              AGG                                       \\\n",
       "                             open     high      low   close     volume   \n",
       "time                                                                     \n",
       "2021-10-27 00:00:00-04:00  114.66  114.915  114.425  114.77  6754544.0   \n",
       "\n",
       "                              SPY                                    \n",
       "                             open    high     low   close    volume  \n",
       "time                                                                 \n",
       "2021-10-27 00:00:00-04:00  456.45  457.16  453.86  453.92  48105590  "
      ]
     },
     "metadata": {},
     "output_type": "display_data"
    }
   ],
   "source": [
    "# View todays close\n",
    "close1027 = prices_data_df.tail(1)\n",
    "display(close1027)"
   ]
  },
  {
   "cell_type": "code",
   "execution_count": 36,
   "metadata": {},
   "outputs": [
    {
     "name": "stdout",
     "output_type": "stream",
     "text": [
      "As of 2021-10-27T00:00:00-04:00, the balance of the stock, SPY, and bond, AGG, portion of the porfolio is $ 72,885.20 USD.\n"
     ]
    }
   ],
   "source": [
    "# Print the current balance of the stock and bond portion of the members portfolio\n",
    "agg_close1027 = close1027['AGG']['close']\n",
    "spy_close1027 = close1027['SPY']['close']\n",
    "\n",
    "agg_value1027 = float(agg_close1027 * agg_shares)\n",
    "spy_value1027 = float(spy_close1027 * spy_shares)\n",
    "\n",
    "total_stocks_bonds1027 = agg_value1027 + spy_value1027\n",
    "print(f\"As of {end_date_retire}, the balance of the stock, SPY, and bond, AGG, portion of the porfolio is ${total_stocks_bonds1027: ,.2f} USD.\")"
   ]
  },
  {
   "cell_type": "code",
   "execution_count": 37,
   "metadata": {},
   "outputs": [
    {
     "name": "stdout",
     "output_type": "stream",
     "text": [
      "There is a 95% chance that an initial invest of $ 72,885.20 USD in the portfolio over the next 30 years will end within the range of $ 784,517.45 USD and $ 16,300,333.95 USD.\n"
     ]
    }
   ],
   "source": [
    "# Use the lower and upper `95%` confidence intervals to calculate the range of the possible outcomes for the current stock/bond portfolio\n",
    "ci_lower_thirty_cumulative_return = MC_30year_summary_stats[8] * total_stocks_bonds1027\n",
    "ci_upper_thirty_cumulative_return = MC_30year_summary_stats[9] * total_stocks_bonds1027\n",
    "\n",
    "# Print the result of your calculations\n",
    "print(f'There is a 95% chance that an initial invest of ${total_stocks_bonds1027: ,.2f} USD in the portfolio over the next 30 years will end within the range of ${ci_lower_thirty_cumulative_return: ,.2f} USD and ${ci_upper_thirty_cumulative_return: ,.2f} USD.')\n"
   ]
  },
  {
   "cell_type": "markdown",
   "metadata": {},
   "source": [
    "### Forecast Cumulative Returns in 10 Years\n",
    "\n",
    "The CTO of the credit union is impressed with your work on these planning tools but wonders if 30 years is a long time to wait until retirement. So, your next task is to adjust the retirement portfolio and run a new Monte Carlo simulation to find out if the changes will allow members to retire earlier.\n",
    "\n",
    "For this new Monte Carlo simulation, do the following: \n",
    "\n",
    "- Forecast the cumulative returns for 10 years from now. Because of the shortened investment horizon (30 years to 10 years), the portfolio needs to invest more heavily in the riskier asset&mdash;that is, stock&mdash;to help accumulate wealth for retirement. \n",
    "\n",
    "- Adjust the weights of the retirement portfolio so that the composition for the Monte Carlo simulation consists of 20% bonds and 80% stocks. \n",
    "\n",
    "- Run the simulation over 500 samples, and use the same data that the API call to Alpaca generated.\n",
    "\n",
    "- Based on the new Monte Carlo simulation, answer the following questions in your Jupyter notebook:\n",
    "\n",
    "    - Using the current value of only the stock and bond portion of the member's portfolio and the summary statistics that you generated from the new Monte Carlo simulation, what are the lower and upper bounds for the expected value of the portfolio (with the new weights) with a 95% confidence interval?\n",
    "\n",
    "    - Will weighting the portfolio more heavily toward stocks allow the credit union members to retire after only 10 years?\n"
   ]
  },
  {
   "cell_type": "code",
   "execution_count": 38,
   "metadata": {},
   "outputs": [
    {
     "data": {
      "text/html": [
       "<div>\n",
       "<style scoped>\n",
       "    .dataframe tbody tr th:only-of-type {\n",
       "        vertical-align: middle;\n",
       "    }\n",
       "\n",
       "    .dataframe tbody tr th {\n",
       "        vertical-align: top;\n",
       "    }\n",
       "\n",
       "    .dataframe thead tr th {\n",
       "        text-align: left;\n",
       "    }\n",
       "\n",
       "    .dataframe thead tr:last-of-type th {\n",
       "        text-align: right;\n",
       "    }\n",
       "</style>\n",
       "<table border=\"1\" class=\"dataframe\">\n",
       "  <thead>\n",
       "    <tr>\n",
       "      <th></th>\n",
       "      <th colspan=\"6\" halign=\"left\">AGG</th>\n",
       "      <th colspan=\"6\" halign=\"left\">SPY</th>\n",
       "    </tr>\n",
       "    <tr>\n",
       "      <th></th>\n",
       "      <th>open</th>\n",
       "      <th>high</th>\n",
       "      <th>low</th>\n",
       "      <th>close</th>\n",
       "      <th>volume</th>\n",
       "      <th>daily_return</th>\n",
       "      <th>open</th>\n",
       "      <th>high</th>\n",
       "      <th>low</th>\n",
       "      <th>close</th>\n",
       "      <th>volume</th>\n",
       "      <th>daily_return</th>\n",
       "    </tr>\n",
       "    <tr>\n",
       "      <th>time</th>\n",
       "      <th></th>\n",
       "      <th></th>\n",
       "      <th></th>\n",
       "      <th></th>\n",
       "      <th></th>\n",
       "      <th></th>\n",
       "      <th></th>\n",
       "      <th></th>\n",
       "      <th></th>\n",
       "      <th></th>\n",
       "      <th></th>\n",
       "      <th></th>\n",
       "    </tr>\n",
       "  </thead>\n",
       "  <tbody>\n",
       "    <tr>\n",
       "      <th>2018-10-29 00:00:00-04:00</th>\n",
       "      <td>104.86</td>\n",
       "      <td>104.89</td>\n",
       "      <td>104.72</td>\n",
       "      <td>104.79</td>\n",
       "      <td>3599179.0</td>\n",
       "      <td>NaN</td>\n",
       "      <td>268.78</td>\n",
       "      <td>270.25</td>\n",
       "      <td>259.85</td>\n",
       "      <td>263.80</td>\n",
       "      <td>120705901</td>\n",
       "      <td>NaN</td>\n",
       "    </tr>\n",
       "    <tr>\n",
       "      <th>2018-10-30 00:00:00-04:00</th>\n",
       "      <td>104.68</td>\n",
       "      <td>104.78</td>\n",
       "      <td>104.64</td>\n",
       "      <td>104.65</td>\n",
       "      <td>2246561.0</td>\n",
       "      <td>-0.001336</td>\n",
       "      <td>263.67</td>\n",
       "      <td>268.12</td>\n",
       "      <td>263.12</td>\n",
       "      <td>267.81</td>\n",
       "      <td>122643325</td>\n",
       "      <td>0.015201</td>\n",
       "    </tr>\n",
       "    <tr>\n",
       "      <th>2018-10-31 00:00:00-04:00</th>\n",
       "      <td>104.50</td>\n",
       "      <td>104.70</td>\n",
       "      <td>104.50</td>\n",
       "      <td>104.58</td>\n",
       "      <td>11670445.0</td>\n",
       "      <td>-0.000669</td>\n",
       "      <td>270.65</td>\n",
       "      <td>273.23</td>\n",
       "      <td>270.12</td>\n",
       "      <td>270.69</td>\n",
       "      <td>97427146</td>\n",
       "      <td>0.010754</td>\n",
       "    </tr>\n",
       "    <tr>\n",
       "      <th>2018-11-01 00:00:00-04:00</th>\n",
       "      <td>104.22</td>\n",
       "      <td>104.41</td>\n",
       "      <td>104.21</td>\n",
       "      <td>104.35</td>\n",
       "      <td>6974347.0</td>\n",
       "      <td>-0.002199</td>\n",
       "      <td>271.62</td>\n",
       "      <td>273.73</td>\n",
       "      <td>270.38</td>\n",
       "      <td>273.51</td>\n",
       "      <td>72100016</td>\n",
       "      <td>0.010418</td>\n",
       "    </tr>\n",
       "    <tr>\n",
       "      <th>2018-11-02 00:00:00-04:00</th>\n",
       "      <td>104.25</td>\n",
       "      <td>104.29</td>\n",
       "      <td>103.94</td>\n",
       "      <td>104.01</td>\n",
       "      <td>4207916.0</td>\n",
       "      <td>-0.003258</td>\n",
       "      <td>274.74</td>\n",
       "      <td>275.23</td>\n",
       "      <td>269.59</td>\n",
       "      <td>271.80</td>\n",
       "      <td>93545041</td>\n",
       "      <td>-0.006252</td>\n",
       "    </tr>\n",
       "  </tbody>\n",
       "</table>\n",
       "</div>"
      ],
      "text/plain": [
       "                              AGG                                      \\\n",
       "                             open    high     low   close      volume   \n",
       "time                                                                    \n",
       "2018-10-29 00:00:00-04:00  104.86  104.89  104.72  104.79   3599179.0   \n",
       "2018-10-30 00:00:00-04:00  104.68  104.78  104.64  104.65   2246561.0   \n",
       "2018-10-31 00:00:00-04:00  104.50  104.70  104.50  104.58  11670445.0   \n",
       "2018-11-01 00:00:00-04:00  104.22  104.41  104.21  104.35   6974347.0   \n",
       "2018-11-02 00:00:00-04:00  104.25  104.29  103.94  104.01   4207916.0   \n",
       "\n",
       "                                           SPY                          \\\n",
       "                          daily_return    open    high     low   close   \n",
       "time                                                                     \n",
       "2018-10-29 00:00:00-04:00          NaN  268.78  270.25  259.85  263.80   \n",
       "2018-10-30 00:00:00-04:00    -0.001336  263.67  268.12  263.12  267.81   \n",
       "2018-10-31 00:00:00-04:00    -0.000669  270.65  273.23  270.12  270.69   \n",
       "2018-11-01 00:00:00-04:00    -0.002199  271.62  273.73  270.38  273.51   \n",
       "2018-11-02 00:00:00-04:00    -0.003258  274.74  275.23  269.59  271.80   \n",
       "\n",
       "                                                   \n",
       "                              volume daily_return  \n",
       "time                                               \n",
       "2018-10-29 00:00:00-04:00  120705901          NaN  \n",
       "2018-10-30 00:00:00-04:00  122643325     0.015201  \n",
       "2018-10-31 00:00:00-04:00   97427146     0.010754  \n",
       "2018-11-01 00:00:00-04:00   72100016     0.010418  \n",
       "2018-11-02 00:00:00-04:00   93545041    -0.006252  "
      ]
     },
     "execution_count": 38,
     "metadata": {},
     "output_type": "execute_result"
    }
   ],
   "source": [
    "# Configure a Monte Carlo simulation to forecast 10 years cumulative returns\n",
    "# The weights should be split 20% to AGG and 80% to SPY.\n",
    "# Run 500 samples.\n",
    "MC_10year = MCSimulation(\n",
    "    portfolio_data = prices_data_df,\n",
    "    weights = [.20, .80],\n",
    "    num_simulation = 500,\n",
    "    num_trading_days = 252 * 10,\n",
    ")\n",
    "\n",
    "# Review the simulation input data\n",
    "MC_10year.portfolio_data.head()"
   ]
  },
  {
   "cell_type": "code",
   "execution_count": 39,
   "metadata": {},
   "outputs": [
    {
     "name": "stdout",
     "output_type": "stream",
     "text": [
      "Running Monte Carlo simulation number 0.\n",
      "Running Monte Carlo simulation number 10.\n",
      "Running Monte Carlo simulation number 20.\n",
      "Running Monte Carlo simulation number 30.\n",
      "Running Monte Carlo simulation number 40.\n",
      "Running Monte Carlo simulation number 50.\n",
      "Running Monte Carlo simulation number 60.\n",
      "Running Monte Carlo simulation number 70.\n",
      "Running Monte Carlo simulation number 80.\n",
      "Running Monte Carlo simulation number 90.\n",
      "Running Monte Carlo simulation number 100.\n",
      "Running Monte Carlo simulation number 110.\n",
      "Running Monte Carlo simulation number 120.\n",
      "Running Monte Carlo simulation number 130.\n",
      "Running Monte Carlo simulation number 140.\n",
      "Running Monte Carlo simulation number 150.\n",
      "Running Monte Carlo simulation number 160.\n",
      "Running Monte Carlo simulation number 170.\n",
      "Running Monte Carlo simulation number 180.\n",
      "Running Monte Carlo simulation number 190.\n",
      "Running Monte Carlo simulation number 200.\n",
      "Running Monte Carlo simulation number 210.\n",
      "Running Monte Carlo simulation number 220.\n",
      "Running Monte Carlo simulation number 230.\n",
      "Running Monte Carlo simulation number 240.\n",
      "Running Monte Carlo simulation number 250.\n",
      "Running Monte Carlo simulation number 260.\n",
      "Running Monte Carlo simulation number 270.\n",
      "Running Monte Carlo simulation number 280.\n",
      "Running Monte Carlo simulation number 290.\n",
      "Running Monte Carlo simulation number 300.\n",
      "Running Monte Carlo simulation number 310.\n",
      "Running Monte Carlo simulation number 320.\n",
      "Running Monte Carlo simulation number 330.\n",
      "Running Monte Carlo simulation number 340.\n",
      "Running Monte Carlo simulation number 350.\n",
      "Running Monte Carlo simulation number 360.\n",
      "Running Monte Carlo simulation number 370.\n",
      "Running Monte Carlo simulation number 380.\n",
      "Running Monte Carlo simulation number 390.\n",
      "Running Monte Carlo simulation number 400.\n",
      "Running Monte Carlo simulation number 410.\n",
      "Running Monte Carlo simulation number 420.\n",
      "Running Monte Carlo simulation number 430.\n",
      "Running Monte Carlo simulation number 440.\n",
      "Running Monte Carlo simulation number 450.\n",
      "Running Monte Carlo simulation number 460.\n",
      "Running Monte Carlo simulation number 470.\n",
      "Running Monte Carlo simulation number 480.\n",
      "Running Monte Carlo simulation number 490.\n"
     ]
    },
    {
     "data": {
      "text/html": [
       "<div>\n",
       "<style scoped>\n",
       "    .dataframe tbody tr th:only-of-type {\n",
       "        vertical-align: middle;\n",
       "    }\n",
       "\n",
       "    .dataframe tbody tr th {\n",
       "        vertical-align: top;\n",
       "    }\n",
       "\n",
       "    .dataframe thead th {\n",
       "        text-align: right;\n",
       "    }\n",
       "</style>\n",
       "<table border=\"1\" class=\"dataframe\">\n",
       "  <thead>\n",
       "    <tr style=\"text-align: right;\">\n",
       "      <th></th>\n",
       "      <th>0</th>\n",
       "      <th>1</th>\n",
       "      <th>2</th>\n",
       "      <th>3</th>\n",
       "      <th>4</th>\n",
       "      <th>5</th>\n",
       "      <th>6</th>\n",
       "      <th>7</th>\n",
       "      <th>8</th>\n",
       "      <th>9</th>\n",
       "      <th>...</th>\n",
       "      <th>490</th>\n",
       "      <th>491</th>\n",
       "      <th>492</th>\n",
       "      <th>493</th>\n",
       "      <th>494</th>\n",
       "      <th>495</th>\n",
       "      <th>496</th>\n",
       "      <th>497</th>\n",
       "      <th>498</th>\n",
       "      <th>499</th>\n",
       "    </tr>\n",
       "  </thead>\n",
       "  <tbody>\n",
       "    <tr>\n",
       "      <th>0</th>\n",
       "      <td>1.000000</td>\n",
       "      <td>1.000000</td>\n",
       "      <td>1.000000</td>\n",
       "      <td>1.000000</td>\n",
       "      <td>1.000000</td>\n",
       "      <td>1.000000</td>\n",
       "      <td>1.000000</td>\n",
       "      <td>1.000000</td>\n",
       "      <td>1.000000</td>\n",
       "      <td>1.000000</td>\n",
       "      <td>...</td>\n",
       "      <td>1.000000</td>\n",
       "      <td>1.000000</td>\n",
       "      <td>1.000000</td>\n",
       "      <td>1.000000</td>\n",
       "      <td>1.000000</td>\n",
       "      <td>1.000000</td>\n",
       "      <td>1.000000</td>\n",
       "      <td>1.000000</td>\n",
       "      <td>1.000000</td>\n",
       "      <td>1.000000</td>\n",
       "    </tr>\n",
       "    <tr>\n",
       "      <th>1</th>\n",
       "      <td>0.997507</td>\n",
       "      <td>0.990948</td>\n",
       "      <td>1.003656</td>\n",
       "      <td>1.010953</td>\n",
       "      <td>1.022882</td>\n",
       "      <td>1.002318</td>\n",
       "      <td>0.998043</td>\n",
       "      <td>1.000110</td>\n",
       "      <td>0.997137</td>\n",
       "      <td>0.973918</td>\n",
       "      <td>...</td>\n",
       "      <td>0.999493</td>\n",
       "      <td>1.000989</td>\n",
       "      <td>1.005830</td>\n",
       "      <td>0.990379</td>\n",
       "      <td>0.978524</td>\n",
       "      <td>0.986067</td>\n",
       "      <td>1.016879</td>\n",
       "      <td>1.013796</td>\n",
       "      <td>0.997806</td>\n",
       "      <td>1.019287</td>\n",
       "    </tr>\n",
       "    <tr>\n",
       "      <th>2</th>\n",
       "      <td>1.009024</td>\n",
       "      <td>1.014258</td>\n",
       "      <td>1.008565</td>\n",
       "      <td>0.994272</td>\n",
       "      <td>1.032737</td>\n",
       "      <td>1.014439</td>\n",
       "      <td>0.980762</td>\n",
       "      <td>1.003357</td>\n",
       "      <td>0.999370</td>\n",
       "      <td>0.975007</td>\n",
       "      <td>...</td>\n",
       "      <td>0.989501</td>\n",
       "      <td>0.983978</td>\n",
       "      <td>1.007887</td>\n",
       "      <td>0.985707</td>\n",
       "      <td>0.988271</td>\n",
       "      <td>1.001585</td>\n",
       "      <td>1.004380</td>\n",
       "      <td>1.005165</td>\n",
       "      <td>0.998608</td>\n",
       "      <td>1.030636</td>\n",
       "    </tr>\n",
       "    <tr>\n",
       "      <th>3</th>\n",
       "      <td>1.002686</td>\n",
       "      <td>1.031244</td>\n",
       "      <td>1.030081</td>\n",
       "      <td>0.980148</td>\n",
       "      <td>1.029865</td>\n",
       "      <td>1.006107</td>\n",
       "      <td>0.977173</td>\n",
       "      <td>1.022023</td>\n",
       "      <td>0.981930</td>\n",
       "      <td>0.978125</td>\n",
       "      <td>...</td>\n",
       "      <td>1.008330</td>\n",
       "      <td>0.964342</td>\n",
       "      <td>1.007297</td>\n",
       "      <td>0.982175</td>\n",
       "      <td>0.992862</td>\n",
       "      <td>0.975345</td>\n",
       "      <td>1.003266</td>\n",
       "      <td>1.006540</td>\n",
       "      <td>1.004774</td>\n",
       "      <td>1.046087</td>\n",
       "    </tr>\n",
       "    <tr>\n",
       "      <th>4</th>\n",
       "      <td>0.996744</td>\n",
       "      <td>1.040711</td>\n",
       "      <td>1.048686</td>\n",
       "      <td>0.988261</td>\n",
       "      <td>1.037784</td>\n",
       "      <td>1.009349</td>\n",
       "      <td>0.986264</td>\n",
       "      <td>1.023387</td>\n",
       "      <td>0.987868</td>\n",
       "      <td>0.973620</td>\n",
       "      <td>...</td>\n",
       "      <td>1.009566</td>\n",
       "      <td>0.935317</td>\n",
       "      <td>1.016505</td>\n",
       "      <td>0.990650</td>\n",
       "      <td>0.996219</td>\n",
       "      <td>0.965238</td>\n",
       "      <td>1.004805</td>\n",
       "      <td>1.001914</td>\n",
       "      <td>1.028798</td>\n",
       "      <td>1.035476</td>\n",
       "    </tr>\n",
       "    <tr>\n",
       "      <th>...</th>\n",
       "      <td>...</td>\n",
       "      <td>...</td>\n",
       "      <td>...</td>\n",
       "      <td>...</td>\n",
       "      <td>...</td>\n",
       "      <td>...</td>\n",
       "      <td>...</td>\n",
       "      <td>...</td>\n",
       "      <td>...</td>\n",
       "      <td>...</td>\n",
       "      <td>...</td>\n",
       "      <td>...</td>\n",
       "      <td>...</td>\n",
       "      <td>...</td>\n",
       "      <td>...</td>\n",
       "      <td>...</td>\n",
       "      <td>...</td>\n",
       "      <td>...</td>\n",
       "      <td>...</td>\n",
       "      <td>...</td>\n",
       "      <td>...</td>\n",
       "    </tr>\n",
       "    <tr>\n",
       "      <th>2516</th>\n",
       "      <td>3.341293</td>\n",
       "      <td>5.676423</td>\n",
       "      <td>1.692704</td>\n",
       "      <td>5.005310</td>\n",
       "      <td>5.949060</td>\n",
       "      <td>3.102984</td>\n",
       "      <td>4.323984</td>\n",
       "      <td>2.810373</td>\n",
       "      <td>6.238271</td>\n",
       "      <td>4.357920</td>\n",
       "      <td>...</td>\n",
       "      <td>3.321941</td>\n",
       "      <td>8.006411</td>\n",
       "      <td>6.221604</td>\n",
       "      <td>2.266320</td>\n",
       "      <td>4.631524</td>\n",
       "      <td>8.796155</td>\n",
       "      <td>3.568750</td>\n",
       "      <td>3.530412</td>\n",
       "      <td>3.614775</td>\n",
       "      <td>5.253991</td>\n",
       "    </tr>\n",
       "    <tr>\n",
       "      <th>2517</th>\n",
       "      <td>3.406599</td>\n",
       "      <td>5.678543</td>\n",
       "      <td>1.713297</td>\n",
       "      <td>5.000478</td>\n",
       "      <td>5.934906</td>\n",
       "      <td>3.119907</td>\n",
       "      <td>4.368210</td>\n",
       "      <td>2.859436</td>\n",
       "      <td>6.179020</td>\n",
       "      <td>4.326748</td>\n",
       "      <td>...</td>\n",
       "      <td>3.313309</td>\n",
       "      <td>7.944141</td>\n",
       "      <td>6.278000</td>\n",
       "      <td>2.257994</td>\n",
       "      <td>4.714855</td>\n",
       "      <td>8.791963</td>\n",
       "      <td>3.568653</td>\n",
       "      <td>3.571727</td>\n",
       "      <td>3.547277</td>\n",
       "      <td>5.226310</td>\n",
       "    </tr>\n",
       "    <tr>\n",
       "      <th>2518</th>\n",
       "      <td>3.427206</td>\n",
       "      <td>5.568715</td>\n",
       "      <td>1.744455</td>\n",
       "      <td>4.986970</td>\n",
       "      <td>5.841485</td>\n",
       "      <td>3.174744</td>\n",
       "      <td>4.304283</td>\n",
       "      <td>2.860948</td>\n",
       "      <td>6.153663</td>\n",
       "      <td>4.389916</td>\n",
       "      <td>...</td>\n",
       "      <td>3.338123</td>\n",
       "      <td>7.941185</td>\n",
       "      <td>6.143151</td>\n",
       "      <td>2.258170</td>\n",
       "      <td>4.646490</td>\n",
       "      <td>8.836364</td>\n",
       "      <td>3.596113</td>\n",
       "      <td>3.568327</td>\n",
       "      <td>3.493031</td>\n",
       "      <td>5.304322</td>\n",
       "    </tr>\n",
       "    <tr>\n",
       "      <th>2519</th>\n",
       "      <td>3.484254</td>\n",
       "      <td>5.508365</td>\n",
       "      <td>1.737626</td>\n",
       "      <td>5.042141</td>\n",
       "      <td>5.966316</td>\n",
       "      <td>3.149620</td>\n",
       "      <td>4.324092</td>\n",
       "      <td>2.789920</td>\n",
       "      <td>6.216188</td>\n",
       "      <td>4.395100</td>\n",
       "      <td>...</td>\n",
       "      <td>3.334170</td>\n",
       "      <td>8.056110</td>\n",
       "      <td>6.132886</td>\n",
       "      <td>2.220149</td>\n",
       "      <td>4.643968</td>\n",
       "      <td>8.741062</td>\n",
       "      <td>3.589061</td>\n",
       "      <td>3.550989</td>\n",
       "      <td>3.503605</td>\n",
       "      <td>5.298180</td>\n",
       "    </tr>\n",
       "    <tr>\n",
       "      <th>2520</th>\n",
       "      <td>3.519946</td>\n",
       "      <td>5.577314</td>\n",
       "      <td>1.736938</td>\n",
       "      <td>5.030908</td>\n",
       "      <td>5.975129</td>\n",
       "      <td>3.117267</td>\n",
       "      <td>4.313532</td>\n",
       "      <td>2.853952</td>\n",
       "      <td>6.205323</td>\n",
       "      <td>4.421275</td>\n",
       "      <td>...</td>\n",
       "      <td>3.299841</td>\n",
       "      <td>8.140440</td>\n",
       "      <td>6.071639</td>\n",
       "      <td>2.241779</td>\n",
       "      <td>4.674789</td>\n",
       "      <td>8.657540</td>\n",
       "      <td>3.585183</td>\n",
       "      <td>3.560923</td>\n",
       "      <td>3.484223</td>\n",
       "      <td>5.342141</td>\n",
       "    </tr>\n",
       "  </tbody>\n",
       "</table>\n",
       "<p>2521 rows × 500 columns</p>\n",
       "</div>"
      ],
      "text/plain": [
       "           0         1         2         3         4         5         6    \\\n",
       "0     1.000000  1.000000  1.000000  1.000000  1.000000  1.000000  1.000000   \n",
       "1     0.997507  0.990948  1.003656  1.010953  1.022882  1.002318  0.998043   \n",
       "2     1.009024  1.014258  1.008565  0.994272  1.032737  1.014439  0.980762   \n",
       "3     1.002686  1.031244  1.030081  0.980148  1.029865  1.006107  0.977173   \n",
       "4     0.996744  1.040711  1.048686  0.988261  1.037784  1.009349  0.986264   \n",
       "...        ...       ...       ...       ...       ...       ...       ...   \n",
       "2516  3.341293  5.676423  1.692704  5.005310  5.949060  3.102984  4.323984   \n",
       "2517  3.406599  5.678543  1.713297  5.000478  5.934906  3.119907  4.368210   \n",
       "2518  3.427206  5.568715  1.744455  4.986970  5.841485  3.174744  4.304283   \n",
       "2519  3.484254  5.508365  1.737626  5.042141  5.966316  3.149620  4.324092   \n",
       "2520  3.519946  5.577314  1.736938  5.030908  5.975129  3.117267  4.313532   \n",
       "\n",
       "           7         8         9    ...       490       491       492  \\\n",
       "0     1.000000  1.000000  1.000000  ...  1.000000  1.000000  1.000000   \n",
       "1     1.000110  0.997137  0.973918  ...  0.999493  1.000989  1.005830   \n",
       "2     1.003357  0.999370  0.975007  ...  0.989501  0.983978  1.007887   \n",
       "3     1.022023  0.981930  0.978125  ...  1.008330  0.964342  1.007297   \n",
       "4     1.023387  0.987868  0.973620  ...  1.009566  0.935317  1.016505   \n",
       "...        ...       ...       ...  ...       ...       ...       ...   \n",
       "2516  2.810373  6.238271  4.357920  ...  3.321941  8.006411  6.221604   \n",
       "2517  2.859436  6.179020  4.326748  ...  3.313309  7.944141  6.278000   \n",
       "2518  2.860948  6.153663  4.389916  ...  3.338123  7.941185  6.143151   \n",
       "2519  2.789920  6.216188  4.395100  ...  3.334170  8.056110  6.132886   \n",
       "2520  2.853952  6.205323  4.421275  ...  3.299841  8.140440  6.071639   \n",
       "\n",
       "           493       494       495       496       497       498       499  \n",
       "0     1.000000  1.000000  1.000000  1.000000  1.000000  1.000000  1.000000  \n",
       "1     0.990379  0.978524  0.986067  1.016879  1.013796  0.997806  1.019287  \n",
       "2     0.985707  0.988271  1.001585  1.004380  1.005165  0.998608  1.030636  \n",
       "3     0.982175  0.992862  0.975345  1.003266  1.006540  1.004774  1.046087  \n",
       "4     0.990650  0.996219  0.965238  1.004805  1.001914  1.028798  1.035476  \n",
       "...        ...       ...       ...       ...       ...       ...       ...  \n",
       "2516  2.266320  4.631524  8.796155  3.568750  3.530412  3.614775  5.253991  \n",
       "2517  2.257994  4.714855  8.791963  3.568653  3.571727  3.547277  5.226310  \n",
       "2518  2.258170  4.646490  8.836364  3.596113  3.568327  3.493031  5.304322  \n",
       "2519  2.220149  4.643968  8.741062  3.589061  3.550989  3.503605  5.298180  \n",
       "2520  2.241779  4.674789  8.657540  3.585183  3.560923  3.484223  5.342141  \n",
       "\n",
       "[2521 rows x 500 columns]"
      ]
     },
     "execution_count": 39,
     "metadata": {},
     "output_type": "execute_result"
    }
   ],
   "source": [
    "# Run the Monte Carlo simulation to forecast 10 years cumulative returns\n",
    "MC_10year.calc_cumulative_return()"
   ]
  },
  {
   "cell_type": "code",
   "execution_count": 40,
   "metadata": {},
   "outputs": [
    {
     "data": {
      "text/plain": [
       "<AxesSubplot:title={'center':'500 Simulations of Cumulative Portfolio Return Trajectories Over the Next 2520 Trading Days.'}>"
      ]
     },
     "execution_count": 40,
     "metadata": {},
     "output_type": "execute_result"
    },
    {
     "data": {
      "image/png": "[encoded data removed]",
      "text/plain": [
       "<Figure size 432x288 with 1 Axes>"
      ]
     },
     "metadata": {
      "needs_background": "light"
     },
     "output_type": "display_data"
    }
   ],
   "source": [
    "# Visualize the 10-year Monte Carlo simulation by creating an\n",
    "# overlay line plot\n",
    "MC_10year.plot_simulation()"
   ]
  },
  {
   "cell_type": "code",
   "execution_count": 41,
   "metadata": {},
   "outputs": [
    {
     "data": {
      "text/plain": [
       "<AxesSubplot:title={'center':'Distribution of Final Cumuluative Returns Across All 500 Simulations'}, ylabel='Frequency'>"
      ]
     },
     "execution_count": 41,
     "metadata": {},
     "output_type": "execute_result"
    },
    {
     "data": {
      "image/png": "[encoded data removed]",
      "text/plain": [
       "<Figure size 432x288 with 1 Axes>"
      ]
     },
     "metadata": {
      "needs_background": "light"
     },
     "output_type": "display_data"
    }
   ],
   "source": [
    "# Visualize the probability distribution of the 10-year Monte Carlo simulation \n",
    "# by plotting a histogram\n",
    "MC_10year.plot_distribution()\n"
   ]
  },
  {
   "cell_type": "code",
   "execution_count": 42,
   "metadata": {},
   "outputs": [
    {
     "name": "stdout",
     "output_type": "stream",
     "text": [
      "count           500.000000\n",
      "mean              5.469144\n",
      "std               3.326673\n",
      "min               0.479873\n",
      "25%               3.326482\n",
      "50%               4.658312\n",
      "75%               6.621654\n",
      "max              21.014901\n",
      "95% CI Lower      1.340656\n",
      "95% CI Upper     14.134562\n",
      "Name: 2520, dtype: float64\n"
     ]
    }
   ],
   "source": [
    "# Generate summary statistics from the 10-year Monte Carlo simulation results\n",
    "# Save the results as a variable\n",
    "MC_10year_stats = MC_10year.summarize_cumulative_return()\n",
    "\n",
    "\n",
    "# Review the 10-year Monte Carlo summary statistics\n",
    "print(MC_10year_stats)"
   ]
  },
  {
   "cell_type": "markdown",
   "metadata": {},
   "source": [
    "### Answer the following questions:"
   ]
  },
  {
   "cell_type": "markdown",
   "metadata": {},
   "source": [
    "#### Question: Using the current value of only the stock and bond portion of the member's portfolio and the summary statistics that you generated from the new Monte Carlo simulation, what are the lower and upper bounds for the expected value of the portfolio (with the new weights) with a 95% confidence interval?"
   ]
  },
  {
   "cell_type": "code",
   "execution_count": 43,
   "metadata": {},
   "outputs": [
    {
     "name": "stdout",
     "output_type": "stream",
     "text": [
      "As of 2021-10-27T00:00:00-04:00, the balance of the stock, SPY, and bond, AGG, portion of the porfolio is $ 72,885.20 USD.\n"
     ]
    }
   ],
   "source": [
    "# Print the current balance of the stock and bond portion of the members portfolio\n",
    "total_stocks_bonds1027 = agg_value1027 + spy_value1027\n",
    "print(f\"As of {end_date_retire}, the balance of the stock, SPY, and bond, AGG, portion of the porfolio is ${total_stocks_bonds1027: ,.2f} USD.\")"
   ]
  },
  {
   "cell_type": "code",
   "execution_count": 44,
   "metadata": {},
   "outputs": [
    {
     "name": "stdout",
     "output_type": "stream",
     "text": [
      "There is a 95% chance that an initial invest of $ 72,885.20 USD in the portfolio over the next 10 years will end within the range of $ 97,713.97 USD and $ 1,030,200.35 USD.\n"
     ]
    }
   ],
   "source": [
    "# Use the lower and upper `95%` confidence intervals to calculate the range of the possible outcomes for the current stock/bond portfolio\n",
    "ci_lower_ten_cumulative_return = MC_10year_stats[8] * total_stocks_bonds1027\n",
    "ci_upper_ten_cumulative_return = MC_10year_stats[9] * total_stocks_bonds1027\n",
    "\n",
    "# Print the result of your calculations\n",
    "print(f'There is a 95% chance that an initial invest of ${total_stocks_bonds1027: ,.2f} USD in the portfolio over the next 10 years will end within the range of ${ci_lower_ten_cumulative_return: ,.2f} USD and ${ci_upper_ten_cumulative_return: ,.2f} USD.')"
   ]
  },
  {
   "cell_type": "markdown",
   "metadata": {},
   "source": [
    "#### Question: Will weighting the portfolio more heavily to stocks allow the credit union members to retire after only 10 years?"
   ]
  },
  {
   "cell_type": "raw",
   "metadata": {},
   "source": [
    "**Answer** Based on our simulation, weighting a member's portfolio more heavily towards stocks will allow credit union members to retire after only 10 years, but a stock more heavily weighted in stocks carries a higher risk."
   ]
  }
 ],
 "metadata": {
  "kernelspec": {
   "display_name": "dev",
   "language": "python",
   "name": "dev"
  },
  "language_info": {
   "codemirror_mode": {
    "name": "ipython",
    "version": 3
   },
   "file_extension": ".py",
   "mimetype": "text/x-python",
   "name": "python",
   "nbconvert_exporter": "python",
   "pygments_lexer": "ipython3",
   "version": "3.7.10"
  }
 },
 "nbformat": 4,
 "nbformat_minor": 4
}
